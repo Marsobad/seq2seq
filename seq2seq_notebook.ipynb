{
 "cells": [
  {
   "cell_type": "code",
   "execution_count": 1,
   "metadata": {},
   "outputs": [],
   "source": [
    "%matplotlib inline"
   ]
  },
  {
   "cell_type": "markdown",
   "metadata": {},
   "source": [
    "\n",
    "NLP From Scratch: Translation with a Sequence to Sequence Network and Attention\n",
    "*******************************************************************************\n",
    "**Author**: `Sean Robertson <https://github.com/spro/practical-pytorch>`_\n",
    "\n",
    "This is the third and final tutorial on doing \"NLP From Scratch\", where we\n",
    "write our own classes and functions to preprocess the data to do our NLP\n",
    "modeling tasks. We hope after you complete this tutorial that you'll proceed to\n",
    "learn how `torchtext` can handle much of this preprocessing for you in the\n",
    "three tutorials immediately following this one.\n",
    "\n",
    "In this project we will be teaching a neural network to translate from\n",
    "French to English.\n",
    "\n",
    "::\n",
    "\n",
    "    [KEY: > input, = target, < output]\n",
    "\n",
    "    > il est en train de peindre un tableau .\n",
    "    = he is painting a picture .\n",
    "    < he is painting a picture .\n",
    "\n",
    "    > pourquoi ne pas essayer ce vin delicieux ?\n",
    "    = why not try that delicious wine ?\n",
    "    < why not try that delicious wine ?\n",
    "\n",
    "    > elle n est pas poete mais romanciere .\n",
    "    = she is not a poet but a novelist .\n",
    "    < she not not a poet but a novelist .\n",
    "\n",
    "    > vous etes trop maigre .\n",
    "    = you re too skinny .\n",
    "    < you re all alone .\n",
    "\n",
    "... to varying degrees of success.\n",
    "\n",
    "This is made possible by the simple but powerful idea of the `sequence\n",
    "to sequence network <https://arxiv.org/abs/1409.3215>`__, in which two\n",
    "recurrent neural networks work together to transform one sequence to\n",
    "another. An encoder network condenses an input sequence into a vector,\n",
    "and a decoder network unfolds that vector into a new sequence.\n",
    "\n",
    ".. figure:: /_static/img/seq-seq-images/seq2seq.png\n",
    "   :alt:\n",
    "\n",
    "To improve upon this model we'll use an `attention\n",
    "mechanism <https://arxiv.org/abs/1409.0473>`__, which lets the decoder\n",
    "learn to focus over a specific range of the input sequence.\n",
    "\n",
    "**Recommended Reading:**\n",
    "\n",
    "I assume you have at least installed PyTorch, know Python, and\n",
    "understand Tensors:\n",
    "\n",
    "-  https://pytorch.org/ For installation instructions\n",
    "-  :doc:`/beginner/deep_learning_60min_blitz` to get started with PyTorch in general\n",
    "-  :doc:`/beginner/pytorch_with_examples` for a wide and deep overview\n",
    "-  :doc:`/beginner/former_torchies_tutorial` if you are former Lua Torch user\n",
    "\n",
    "\n",
    "It would also be useful to know about Sequence to Sequence networks and\n",
    "how they work:\n",
    "\n",
    "-  `Learning Phrase Representations using RNN Encoder-Decoder for\n",
    "   Statistical Machine Translation <https://arxiv.org/abs/1406.1078>`__\n",
    "-  `Sequence to Sequence Learning with Neural\n",
    "   Networks <https://arxiv.org/abs/1409.3215>`__\n",
    "-  `Neural Machine Translation by Jointly Learning to Align and\n",
    "   Translate <https://arxiv.org/abs/1409.0473>`__\n",
    "-  `A Neural Conversational Model <https://arxiv.org/abs/1506.05869>`__\n",
    "\n",
    "You will also find the previous tutorials on\n",
    ":doc:`/intermediate/char_rnn_classification_tutorial`\n",
    "and :doc:`/intermediate/char_rnn_generation_tutorial`\n",
    "helpful as those concepts are very similar to the Encoder and Decoder\n",
    "models, respectively.\n",
    "\n",
    "And for more, read the papers that introduced these topics:\n",
    "\n",
    "-  `Learning Phrase Representations using RNN Encoder-Decoder for\n",
    "   Statistical Machine Translation <https://arxiv.org/abs/1406.1078>`__\n",
    "-  `Sequence to Sequence Learning with Neural\n",
    "   Networks <https://arxiv.org/abs/1409.3215>`__\n",
    "-  `Neural Machine Translation by Jointly Learning to Align and\n",
    "   Translate <https://arxiv.org/abs/1409.0473>`__\n",
    "-  `A Neural Conversational Model <https://arxiv.org/abs/1506.05869>`__\n",
    "\n",
    "\n",
    "**Requirements**\n",
    "\n"
   ]
  },
  {
   "cell_type": "code",
   "execution_count": 63,
   "metadata": {},
   "outputs": [],
   "source": [
    "from __future__ import unicode_literals, print_function, division\n",
    "from io import open\n",
    "import unicodedata\n",
    "import string\n",
    "import re\n",
    "import random\n",
    "\n",
    "import torch\n",
    "import torch.nn as nn\n",
    "from torch import optim\n",
    "import torch.nn.functional as F\n",
    "import xml.etree.ElementTree as ET\n",
    "import nltk\n",
    "\n",
    "device = torch.device(\"cuda\" if torch.cuda.is_available() else \"cpu\")\n",
    "DATA_DIRECTORY = \"training/\" "
   ]
  },
  {
   "cell_type": "markdown",
   "metadata": {},
   "source": [
    "Loading data files\n",
    "==================\n",
    "\n",
    "The data for this project is a set of many thousands of English to\n",
    "French translation pairs.\n",
    "\n",
    "`This question on Open Data Stack\n",
    "Exchange <https://opendata.stackexchange.com/questions/3888/dataset-of-sentences-translated-into-many-languages>`__\n",
    "pointed me to the open translation site https://tatoeba.org/ which has\n",
    "downloads available at https://tatoeba.org/eng/downloads - and better\n",
    "yet, someone did the extra work of splitting language pairs into\n",
    "individual text files here: https://www.manythings.org/anki/\n",
    "\n",
    "The English to French pairs are too big to include in the repo, so\n",
    "download to ``data/eng-fra.txt`` before continuing. The file is a tab\n",
    "separated list of translation pairs:\n",
    "\n",
    "::\n",
    "\n",
    "    I am cold.    J'ai froid.\n",
    "\n",
    ".. Note::\n",
    "   Download the data from\n",
    "   `here <https://download.pytorch.org/tutorial/data.zip>`_\n",
    "   and extract it to the current directory.\n",
    "\n"
   ]
  },
  {
   "cell_type": "markdown",
   "metadata": {},
   "source": [
    "Similar to the character encoding used in the character-level RNN\n",
    "tutorials, we will be representing each word in a language as a one-hot\n",
    "vector, or giant vector of zeros except for a single one (at the index\n",
    "of the word). Compared to the dozens of characters that might exist in a\n",
    "language, there are many many more words, so the encoding vector is much\n",
    "larger. We will however cheat a bit and trim the data to only use a few\n",
    "thousand words per language.\n",
    "\n",
    ".. figure:: /_static/img/seq-seq-images/word-encoding.png\n",
    "   :alt:\n",
    "\n",
    "\n",
    "\n"
   ]
  },
  {
   "cell_type": "markdown",
   "metadata": {},
   "source": [
    "We'll need a unique index per word to use as the inputs and targets of\n",
    "the networks later. To keep track of all this we will use a helper class\n",
    "called ``Lang`` which has word → index (``word2index``) and index → word\n",
    "(``index2word``) dictionaries, as well as a count of each word\n",
    "``word2count`` to use to later replace rare words.\n",
    "\n",
    "\n"
   ]
  },
  {
   "cell_type": "code",
   "execution_count": 64,
   "metadata": {},
   "outputs": [],
   "source": [
    "def retrieve_translation_pairs(root_en,root_fr,level,raw_pairs):\n",
    "    rejected_count = 0\n",
    "    accepted_count = 0\n",
    "    for description_en,description_fr in zip(root_en.iter(level),root_fr.iter(level)):\n",
    "        sentences_en = nltk.sent_tokenize(description_en.text)\n",
    "        sentences_fr =  nltk.sent_tokenize(description_fr.text)\n",
    "        if len(sentences_en) == len(sentences_fr):\n",
    "            accepted_count +=1 \n",
    "            for translation_en,translation_fr in zip(sentences_en,sentences_fr): \n",
    "                raw_pairs.append([translation_en,translation_fr])\n",
    "        else:\n",
    "            rejected_count+=1\n",
    "    print(level,\"--  % of rejected sentences:\",rejected_count/(rejected_count+accepted_count)*100,rejected_count)\n",
    "    return raw_pairs            "
   ]
  },
  {
   "cell_type": "code",
   "execution_count": 65,
   "metadata": {},
   "outputs": [],
   "source": [
    "from nltk.tokenize import word_tokenize \n",
    "\n",
    "SOS_token = 0\n",
    "EOS_token = 1\n",
    "\n",
    "\n",
    "class Lang:\n",
    "    def __init__(self, name):\n",
    "        self.name = name\n",
    "        self.word2index = {}\n",
    "        self.word2count = {}\n",
    "        self.index2word = {0: \"SOS\", 1: \"EOS\"}\n",
    "        self.n_words = 2  # Count SOS and EOS\n",
    "\n",
    "    def addSentence(self, sentence):\n",
    "        if self.name == \"eng\":\n",
    "            for word in word_tokenize(sentence,language='english'):\n",
    "                self.addWord(word)\n",
    "        if self.name ==\"fra\":\n",
    "            for word in word_tokenize(sentence,language='french'):\n",
    "                self.addWord(word)\n",
    "            \n",
    "\n",
    "    def addWord(self, word):\n",
    "        if word not in self.word2index:\n",
    "            self.word2index[word] = self.n_words\n",
    "            self.word2count[word] = 1\n",
    "            self.index2word[self.n_words] = word\n",
    "            self.n_words += 1\n",
    "        else:\n",
    "            self.word2count[word] += 1"
   ]
  },
  {
   "cell_type": "markdown",
   "metadata": {},
   "source": [
    "The files are all in Unicode, to simplify we will turn Unicode\n",
    "characters to ASCII, make everything lowercase, and trim most\n",
    "punctuation.\n",
    "\n",
    "\n"
   ]
  },
  {
   "cell_type": "code",
   "execution_count": 66,
   "metadata": {},
   "outputs": [],
   "source": [
    "# Turn a Unicode string to plain ASCII, thanks to\n",
    "# https://stackoverflow.com/a/518232/2809427\n",
    "def unicodeToAscii(s):\n",
    "    return ''.join(\n",
    "        c for c in unicodedata.normalize('NFD', s)\n",
    "        if unicodedata.category(c) != 'Mn'\n",
    "    )\n",
    "\n",
    "# Lowercase, trim, and remove non-letter characters\n",
    "\n",
    "\n",
    "def normalizeString(s):\n",
    "    s = s.lower().strip()\n",
    "    s = re.sub(r\"([.!?])\", r\" \\1\", s)\n",
    "    return s"
   ]
  },
  {
   "cell_type": "markdown",
   "metadata": {},
   "source": [
    "To read the data file we will split the file into lines, and then split\n",
    "lines into pairs. The files are all English → Other Language, so if we\n",
    "want to translate from Other Language → English I added the ``reverse``\n",
    "flag to reverse the pairs.\n",
    "\n",
    "\n"
   ]
  },
  {
   "cell_type": "code",
   "execution_count": 67,
   "metadata": {},
   "outputs": [],
   "source": [
    "def readLangs(lang1, lang2, raw_pairs,reverse=False):\n",
    "    pairs = [[normalizeString(s) for s in l] for l in raw_pairs]\n",
    "    \n",
    "    # Reverse pairs, make Lang instances\n",
    "    if reverse:\n",
    "        pairs = [list(reversed(p)) for p in pairs]\n",
    "        input_lang = Lang(lang2)\n",
    "        output_lang = Lang(lang1)\n",
    "    else:\n",
    "        input_lang = Lang(lang1)\n",
    "        output_lang = Lang(lang2)\n",
    "\n",
    "    return input_lang, output_lang, pairs"
   ]
  },
  {
   "cell_type": "markdown",
   "metadata": {},
   "source": [
    "Since there are a *lot* of example sentences and we want to train\n",
    "something quickly, we'll trim the data set to only relatively short and\n",
    "simple sentences. Here the maximum length is 10 words (that includes\n",
    "ending punctuation) and we're filtering to sentences that translate to\n",
    "the form \"I am\" or \"He is\" etc. (accounting for apostrophes replaced\n",
    "earlier).\n",
    "\n",
    "\n"
   ]
  },
  {
   "cell_type": "code",
   "execution_count": 68,
   "metadata": {},
   "outputs": [],
   "source": [
    "MAX_LENGTH = 600\n",
    "\n",
    "eng_prefixes = (\n",
    "    \"i am \", \"i m \",\n",
    "    \"he is\", \"he s \",\n",
    "    \"she is\", \"she s \",\n",
    "    \"you are\", \"you re \",\n",
    "    \"we are\", \"we re \",\n",
    "    \"they are\", \"they re \"\n",
    ")\n",
    "\n",
    "\n",
    "def filterPair(p):\n",
    "    return len(p[0].split(' ')) < MAX_LENGTH and \\\n",
    "        len(p[1].split(' ')) < MAX_LENGTH  \n",
    "\n",
    "\n",
    "def filterPairs(pairs):\n",
    "    return [pair for pair in pairs if filterPair(pair)]"
   ]
  },
  {
   "cell_type": "markdown",
   "metadata": {},
   "source": [
    "The full process for preparing the data is:\n",
    "\n",
    "-  Read text file and split into lines, split lines into pairs\n",
    "-  Normalize text, filter by length and content\n",
    "-  Make word lists from sentences in pairs\n",
    "\n",
    "\n"
   ]
  },
  {
   "cell_type": "code",
   "execution_count": 69,
   "metadata": {},
   "outputs": [
    {
     "name": "stdout",
     "output_type": "stream",
     "text": [
      "description --  % of rejected sentences: 37.5 3\n",
      "description --  % of rejected sentences: 27.27272727272727 3\n",
      "title --  % of rejected sentences: 0.0 0\n",
      "title --  % of rejected sentences: 0.0 0\n",
      "seg --  % of rejected sentences: 9.470124013528748 84\n",
      "seg --  % of rejected sentences: 5.889423076923077 98\n",
      "Read 2597 sentence pairs\n",
      "Counting words...\n",
      "Counted words:\n",
      "fra 6727\n",
      "eng 5220\n",
      "[\"imagination appauvrie, vue myope du monde, et c'est ce que j'avais compris la première fois,\", \"impoverished imagination, a myopic view of the world -- and that's the way i read it at first .\"]\n"
     ]
    }
   ],
   "source": [
    "def prepareData(lang1, lang2, raw_pairs, reverse=False):\n",
    "    input_lang, output_lang, pairs = readLangs(lang1, lang2,raw_pairs, reverse)\n",
    "    print(\"Read %s sentence pairs\" % len(pairs))\n",
    "    #pairs = filterPairs(pairs)\n",
    "    print(\"Counting words...\")\n",
    "    for pair in pairs:\n",
    "        input_lang.addSentence(pair[0])\n",
    "        output_lang.addSentence(pair[1])\n",
    "    print(\"Counted words:\")\n",
    "    print(input_lang.name, input_lang.n_words)\n",
    "    print(output_lang.name, output_lang.n_words)\n",
    "    return input_lang, output_lang, pairs\n",
    "\n",
    "raw_pairs = []\n",
    "ROOT_EN_1 = ET.parse(DATA_DIRECTORY+\"IWSLT14.TED.dev2010.en-fr.en.xml\") \n",
    "ROOT_FR_1 =  ET.parse(DATA_DIRECTORY+\"IWSLT14.TED.dev2010.en-fr.fr.xml\") \n",
    "ROOT_EN_2 = ET.parse(DATA_DIRECTORY+\"IWSLT14.TED.tst2010.en-fr.en.xml\") \n",
    "ROOT_FR_2 =  ET.parse(DATA_DIRECTORY+\"IWSLT14.TED.tst2010.en-fr.fr.xml\") \n",
    "\n",
    "\n",
    "\n",
    "sections = [\"description\",\"title\",\"seg\"]\n",
    "for section in sections:\n",
    "    raw_pairs = retrieve_translation_pairs(ROOT_EN_1,ROOT_FR_1,section,raw_pairs)\n",
    "    raw_pairs = retrieve_translation_pairs(ROOT_EN_2,ROOT_FR_2,section,raw_pairs)\n",
    "\n",
    "input_lang, output_lang, pairs = prepareData('eng', 'fra', raw_pairs,True)\n",
    "print(random.choice(pairs))"
   ]
  },
  {
   "cell_type": "markdown",
   "metadata": {},
   "source": [
    "The Seq2Seq Model\n",
    "=================\n",
    "\n",
    "A Recurrent Neural Network, or RNN, is a network that operates on a\n",
    "sequence and uses its own output as input for subsequent steps.\n",
    "\n",
    "A `Sequence to Sequence network <https://arxiv.org/abs/1409.3215>`__, or\n",
    "seq2seq network, or `Encoder Decoder\n",
    "network <https://arxiv.org/pdf/1406.1078v3.pdf>`__, is a model\n",
    "consisting of two RNNs called the encoder and decoder. The encoder reads\n",
    "an input sequence and outputs a single vector, and the decoder reads\n",
    "that vector to produce an output sequence.\n",
    "\n",
    ".. figure:: /_static/img/seq-seq-images/seq2seq.png\n",
    "   :alt:\n",
    "\n",
    "Unlike sequence prediction with a single RNN, where every input\n",
    "corresponds to an output, the seq2seq model frees us from sequence\n",
    "length and order, which makes it ideal for translation between two\n",
    "languages.\n",
    "\n",
    "Consider the sentence \"Je ne suis pas le chat noir\" → \"I am not the\n",
    "black cat\". Most of the words in the input sentence have a direct\n",
    "translation in the output sentence, but are in slightly different\n",
    "orders, e.g. \"chat noir\" and \"black cat\". Because of the \"ne/pas\"\n",
    "construction there is also one more word in the input sentence. It would\n",
    "be difficult to produce a correct translation directly from the sequence\n",
    "of input words.\n",
    "\n",
    "With a seq2seq model the encoder creates a single vector which, in the\n",
    "ideal case, encodes the \"meaning\" of the input sequence into a single\n",
    "vector — a single point in some N dimensional space of sentences.\n",
    "\n",
    "\n"
   ]
  },
  {
   "cell_type": "markdown",
   "metadata": {},
   "source": [
    "The Encoder\n",
    "-----------\n",
    "\n",
    "The encoder of a seq2seq network is a RNN that outputs some value for\n",
    "every word from the input sentence. For every input word the encoder\n",
    "outputs a vector and a hidden state, and uses the hidden state for the\n",
    "next input word.\n",
    "\n",
    ".. figure:: /_static/img/seq-seq-images/encoder-network.png\n",
    "   :alt:\n",
    "\n",
    "\n",
    "\n"
   ]
  },
  {
   "cell_type": "code",
   "execution_count": 70,
   "metadata": {},
   "outputs": [],
   "source": [
    "class EncoderRNN(nn.Module):\n",
    "    def __init__(self, input_size, hidden_size):\n",
    "        super(EncoderRNN, self).__init__()\n",
    "        self.hidden_size = hidden_size\n",
    "\n",
    "        self.embedding = nn.Embedding(input_size, hidden_size)\n",
    "        self.gru = nn.GRU(hidden_size, hidden_size)\n",
    "\n",
    "    def forward(self, input, hidden):\n",
    "        embedded = self.embedding(input).view(1, 1, -1)\n",
    "        output = embedded\n",
    "        output, hidden = self.gru(output, hidden)\n",
    "        return output, hidden\n",
    "\n",
    "    def initHidden(self):\n",
    "        return torch.zeros(1, 1, self.hidden_size, device=device)"
   ]
  },
  {
   "cell_type": "markdown",
   "metadata": {},
   "source": [
    "The Decoder\n",
    "-----------\n",
    "\n",
    "The decoder is another RNN that takes the encoder output vector(s) and\n",
    "outputs a sequence of words to create the translation.\n",
    "\n",
    "\n"
   ]
  },
  {
   "cell_type": "markdown",
   "metadata": {},
   "source": [
    "Simple Decoder\n",
    "^^^^^^^^^^^^^^\n",
    "\n",
    "In the simplest seq2seq decoder we use only last output of the encoder.\n",
    "This last output is sometimes called the *context vector* as it encodes\n",
    "context from the entire sequence. This context vector is used as the\n",
    "initial hidden state of the decoder.\n",
    "\n",
    "At every step of decoding, the decoder is given an input token and\n",
    "hidden state. The initial input token is the start-of-string ``<SOS>``\n",
    "token, and the first hidden state is the context vector (the encoder's\n",
    "last hidden state).\n",
    "\n",
    ".. figure:: /_static/img/seq-seq-images/decoder-network.png\n",
    "   :alt:\n",
    "\n",
    "\n",
    "\n"
   ]
  },
  {
   "cell_type": "code",
   "execution_count": 71,
   "metadata": {},
   "outputs": [],
   "source": [
    "class DecoderRNN(nn.Module):\n",
    "    def __init__(self, hidden_size, output_size):\n",
    "        super(DecoderRNN, self).__init__()\n",
    "        self.hidden_size = hidden_size\n",
    "\n",
    "        self.embedding = nn.Embedding(output_size, hidden_size)\n",
    "        self.gru = nn.GRU(hidden_size, hidden_size)\n",
    "        self.out = nn.Linear(hidden_size, output_size)\n",
    "        self.softmax = nn.LogSoftmax(dim=1)\n",
    "\n",
    "    def forward(self, input, hidden):\n",
    "        output = self.embedding(input).view(1, 1, -1)\n",
    "        output = F.relu(output)\n",
    "        output, hidden = self.gru(output, hidden)\n",
    "        output = self.softmax(self.out(output[0]))\n",
    "        return output, hidden\n",
    "\n",
    "    def initHidden(self):\n",
    "        return torch.zeros(1, 1, self.hidden_size, device=device)"
   ]
  },
  {
   "cell_type": "markdown",
   "metadata": {},
   "source": [
    "I encourage you to train and observe the results of this model, but to\n",
    "save space we'll be going straight for the gold and introducing the\n",
    "Attention Mechanism.\n",
    "\n",
    "\n"
   ]
  },
  {
   "cell_type": "markdown",
   "metadata": {},
   "source": [
    "Attention Decoder\n",
    "^^^^^^^^^^^^^^^^^\n",
    "\n",
    "If only the context vector is passed betweeen the encoder and decoder,\n",
    "that single vector carries the burden of encoding the entire sentence.\n",
    "\n",
    "Attention allows the decoder network to \"focus\" on a different part of\n",
    "the encoder's outputs for every step of the decoder's own outputs. First\n",
    "we calculate a set of *attention weights*. These will be multiplied by\n",
    "the encoder output vectors to create a weighted combination. The result\n",
    "(called ``attn_applied`` in the code) should contain information about\n",
    "that specific part of the input sequence, and thus help the decoder\n",
    "choose the right output words.\n",
    "\n",
    ".. figure:: https://i.imgur.com/1152PYf.png\n",
    "   :alt:\n",
    "\n",
    "Calculating the attention weights is done with another feed-forward\n",
    "layer ``attn``, using the decoder's input and hidden state as inputs.\n",
    "Because there are sentences of all sizes in the training data, to\n",
    "actually create and train this layer we have to choose a maximum\n",
    "sentence length (input length, for encoder outputs) that it can apply\n",
    "to. Sentences of the maximum length will use all the attention weights,\n",
    "while shorter sentences will only use the first few.\n",
    "\n",
    ".. figure:: /_static/img/seq-seq-images/attention-decoder-network.png\n",
    "   :alt:\n",
    "\n",
    "\n",
    "\n"
   ]
  },
  {
   "cell_type": "code",
   "execution_count": 72,
   "metadata": {},
   "outputs": [],
   "source": [
    "class AttnDecoderRNN(nn.Module):\n",
    "    def __init__(self, hidden_size, output_size, dropout_p=0.1, max_length=MAX_LENGTH):\n",
    "        super(AttnDecoderRNN, self).__init__()\n",
    "        self.hidden_size = hidden_size\n",
    "        self.output_size = output_size\n",
    "        self.dropout_p = dropout_p\n",
    "        self.max_length = max_length\n",
    "\n",
    "        self.embedding = nn.Embedding(self.output_size, self.hidden_size)\n",
    "        self.attn = nn.Linear(self.hidden_size * 2, self.max_length)\n",
    "        self.attn_combine = nn.Linear(self.hidden_size * 2, self.hidden_size)\n",
    "        self.dropout = nn.Dropout(self.dropout_p)\n",
    "        self.gru = nn.GRU(self.hidden_size, self.hidden_size)\n",
    "        self.out = nn.Linear(self.hidden_size, self.output_size)\n",
    "\n",
    "    def forward(self, input, hidden, encoder_outputs):\n",
    "        embedded = self.embedding(input).view(1, 1, -1)\n",
    "        embedded = self.dropout(embedded)\n",
    "        \n",
    "        \n",
    "        attn_weights = F.softmax(self.attn(torch.cat((embedded[0], hidden[0]), 1)), dim=1)\n",
    "        attn_applied = torch.bmm(attn_weights.unsqueeze(0),\n",
    "                                 encoder_outputs.unsqueeze(0))\n",
    "\n",
    "        output = torch.cat((embedded[0], attn_applied[0]), 1)\n",
    "        output = self.attn_combine(output).unsqueeze(0)\n",
    "\n",
    "        output = F.relu(output)\n",
    "        output, hidden = self.gru(output, hidden)\n",
    "\n",
    "        output = F.log_softmax(self.out(output[0]), dim=1)\n",
    "        return output, hidden, attn_weights\n",
    "\n",
    "    def initHidden(self):\n",
    "        return torch.zeros(1, 1, self.hidden_size, device=device)"
   ]
  },
  {
   "cell_type": "markdown",
   "metadata": {},
   "source": [
    "<div class=\"alert alert-info\"><h4>Note</h4><p>There are other forms of attention that work around the length\n",
    "  limitation by using a relative position approach. Read about \"local\n",
    "  attention\" in `Effective Approaches to Attention-based Neural Machine\n",
    "  Translation <https://arxiv.org/abs/1508.04025>`__.</p></div>\n",
    "\n",
    "Training\n",
    "========\n",
    "\n",
    "Preparing Training Data\n",
    "-----------------------\n",
    "\n",
    "To train, for each pair we will need an input tensor (indexes of the\n",
    "words in the input sentence) and target tensor (indexes of the words in\n",
    "the target sentence). While creating these vectors we will append the\n",
    "EOS token to both sequences.\n",
    "\n",
    "\n"
   ]
  },
  {
   "cell_type": "code",
   "execution_count": 73,
   "metadata": {},
   "outputs": [],
   "source": [
    "def indexesFromSentence(lang, sentence):\n",
    "    if lang.name == \"eng\":\n",
    "        return [lang.word2index[word] for word in word_tokenize(sentence,language='english')]\n",
    "    if lang.name ==\"fra\":\n",
    "        return [lang.word2index[word] for word in word_tokenize(sentence,language='french')]\n",
    "\n",
    "\n",
    "def tensorFromSentence(lang, sentence):\n",
    "    indexes = indexesFromSentence(lang, sentence)\n",
    "    indexes.append(EOS_token)\n",
    "    return torch.tensor(indexes, dtype=torch.long, device=device).view(-1, 1)\n",
    "\n",
    "\n",
    "def tensorsFromPair(pair):\n",
    "    input_tensor = tensorFromSentence(input_lang, pair[0])\n",
    "    target_tensor = tensorFromSentence(output_lang, pair[1])\n",
    "    return (input_tensor, target_tensor)"
   ]
  },
  {
   "cell_type": "markdown",
   "metadata": {},
   "source": [
    "Training the Model\n",
    "------------------\n",
    "\n",
    "To train we run the input sentence through the encoder, and keep track\n",
    "of every output and the latest hidden state. Then the decoder is given\n",
    "the ``<SOS>`` token as its first input, and the last hidden state of the\n",
    "encoder as its first hidden state.\n",
    "\n",
    "\"Teacher forcing\" is the concept of using the real target outputs as\n",
    "each next input, instead of using the decoder's guess as the next input.\n",
    "Using teacher forcing causes it to converge faster but `when the trained\n",
    "network is exploited, it may exhibit\n",
    "instability <http://citeseerx.ist.psu.edu/viewdoc/download?doi=10.1.1.378.4095&rep=rep1&type=pdf>`__.\n",
    "\n",
    "You can observe outputs of teacher-forced networks that read with\n",
    "coherent grammar but wander far from the correct translation -\n",
    "intuitively it has learned to represent the output grammar and can \"pick\n",
    "up\" the meaning once the teacher tells it the first few words, but it\n",
    "has not properly learned how to create the sentence from the translation\n",
    "in the first place.\n",
    "\n",
    "Because of the freedom PyTorch's autograd gives us, we can randomly\n",
    "choose to use teacher forcing or not with a simple if statement. Turn\n",
    "``teacher_forcing_ratio`` up to use more of it.\n",
    "\n",
    "\n"
   ]
  },
  {
   "cell_type": "code",
   "execution_count": 74,
   "metadata": {},
   "outputs": [],
   "source": [
    "teacher_forcing_ratio = 0.5\n",
    "\n",
    "\n",
    "def train(input_tensor, target_tensor, encoder, decoder, encoder_optimizer, decoder_optimizer, criterion, max_length=MAX_LENGTH):\n",
    "    encoder_hidden = encoder.initHidden()\n",
    "\n",
    "    encoder_optimizer.zero_grad()\n",
    "    decoder_optimizer.zero_grad()\n",
    "\n",
    "    input_length = input_tensor.size(0)\n",
    "    target_length = target_tensor.size(0)\n",
    "\n",
    "    encoder_outputs = torch.zeros(max_length, encoder.hidden_size, device=device)\n",
    "\n",
    "    loss = 0\n",
    "\n",
    "    for ei in range(input_length):\n",
    "        encoder_output, encoder_hidden = encoder(\n",
    "            input_tensor[ei], encoder_hidden)\n",
    "        encoder_outputs[ei] = encoder_output[0, 0]\n",
    "\n",
    "    decoder_input = torch.tensor([[SOS_token]], device=device)\n",
    "\n",
    "    decoder_hidden = encoder_hidden\n",
    "\n",
    "    use_teacher_forcing = True if random.random() < teacher_forcing_ratio else False\n",
    "\n",
    "    if use_teacher_forcing:\n",
    "        # Teacher forcing: Feed the target as the next input\n",
    "        for di in range(target_length):\n",
    "            decoder_output, decoder_hidden, decoder_attention = decoder(\n",
    "                decoder_input, decoder_hidden, encoder_outputs)\n",
    "            loss += criterion(decoder_output, target_tensor[di])\n",
    "            decoder_input = target_tensor[di]  # Teacher forcing\n",
    "\n",
    "    else:\n",
    "        # Without teacher forcing: use its own predictions as the next input\n",
    "        for di in range(target_length):\n",
    "            decoder_output, decoder_hidden, decoder_attention = decoder(\n",
    "                decoder_input, decoder_hidden, encoder_outputs)\n",
    "            topv, topi = decoder_output.topk(1)\n",
    "            decoder_input = topi.squeeze().detach()  # detach from history as input\n",
    "\n",
    "            loss += criterion(decoder_output, target_tensor[di])\n",
    "            if decoder_input.item() == EOS_token:\n",
    "                break\n",
    "\n",
    "    loss.backward()\n",
    "\n",
    "    encoder_optimizer.step()\n",
    "    decoder_optimizer.step()\n",
    "\n",
    "    return loss.item() / target_length"
   ]
  },
  {
   "cell_type": "markdown",
   "metadata": {},
   "source": [
    "This is a helper function to print time elapsed and estimated time\n",
    "remaining given the current time and progress %.\n",
    "\n",
    "\n"
   ]
  },
  {
   "cell_type": "code",
   "execution_count": 75,
   "metadata": {},
   "outputs": [],
   "source": [
    "import time\n",
    "import math\n",
    "\n",
    "\n",
    "def asMinutes(s):\n",
    "    m = math.floor(s / 60)\n",
    "    s -= m * 60\n",
    "    return '%dm %ds' % (m, s)\n",
    "\n",
    "\n",
    "def timeSince(since, percent):\n",
    "    now = time.time()\n",
    "    s = now - since\n",
    "    es = s / (percent)\n",
    "    rs = es - s\n",
    "    return '%s (- %s)' % (asMinutes(s), asMinutes(rs))"
   ]
  },
  {
   "cell_type": "markdown",
   "metadata": {},
   "source": [
    "The whole training process looks like this:\n",
    "\n",
    "-  Start a timer\n",
    "-  Initialize optimizers and criterion\n",
    "-  Create set of training pairs\n",
    "-  Start empty losses array for plotting\n",
    "\n",
    "Then we call ``train`` many times and occasionally print the progress (%\n",
    "of examples, time so far, estimated time) and average loss.\n",
    "\n",
    "\n"
   ]
  },
  {
   "cell_type": "code",
   "execution_count": 76,
   "metadata": {},
   "outputs": [],
   "source": [
    "def trainIters(encoder, decoder, n_iters, print_every=1000, plot_every=100, learning_rate=0.01):\n",
    "    start = time.time()\n",
    "    plot_losses = []\n",
    "    print_loss_total = 0  # Reset every print_every\n",
    "    plot_loss_total = 0  # Reset every plot_every\n",
    "\n",
    "    encoder_optimizer = optim.SGD(encoder.parameters(), lr=learning_rate)\n",
    "    decoder_optimizer = optim.SGD(decoder.parameters(), lr=learning_rate)\n",
    "    training_pairs = [tensorsFromPair(random.choice(pairs))\n",
    "                      for i in range(n_iters)]\n",
    "    criterion = nn.NLLLoss()\n",
    "\n",
    "    for iter in range(1, n_iters + 1):\n",
    "        training_pair = training_pairs[iter - 1]\n",
    "        input_tensor = training_pair[0]\n",
    "        target_tensor = training_pair[1]\n",
    "\n",
    "        loss = train(input_tensor, target_tensor, encoder,\n",
    "                     decoder, encoder_optimizer, decoder_optimizer, criterion)\n",
    "        print_loss_total += loss\n",
    "        plot_loss_total += loss\n",
    "\n",
    "        if iter % print_every == 0:\n",
    "            print_loss_avg = print_loss_total / print_every\n",
    "            print_loss_total = 0\n",
    "            print('%s (%d %d%%) %.4f' % (timeSince(start, iter / n_iters),\n",
    "                                         iter, iter / n_iters * 100, print_loss_avg))\n",
    "\n",
    "        if iter % plot_every == 0:\n",
    "            plot_loss_avg = plot_loss_total / plot_every\n",
    "            plot_losses.append(plot_loss_avg)\n",
    "            plot_loss_total = 0\n",
    "\n",
    "    showPlot(plot_losses)"
   ]
  },
  {
   "cell_type": "markdown",
   "metadata": {},
   "source": [
    "Plotting results\n",
    "----------------\n",
    "\n",
    "Plotting is done with matplotlib, using the array of loss values\n",
    "``plot_losses`` saved while training.\n",
    "\n",
    "\n"
   ]
  },
  {
   "cell_type": "code",
   "execution_count": 77,
   "metadata": {},
   "outputs": [],
   "source": [
    "import matplotlib.pyplot as plt\n",
    "plt.switch_backend('agg')\n",
    "import matplotlib.ticker as ticker\n",
    "import numpy as np\n",
    "\n",
    "\n",
    "def showPlot(points):\n",
    "    plt.figure()\n",
    "    fig, ax = plt.subplots()\n",
    "    # this locator puts ticks at regular intervals\n",
    "    loc = ticker.MultipleLocator(base=0.2)\n",
    "    ax.yaxis.set_major_locator(loc)\n",
    "    plt.plot(points)"
   ]
  },
  {
   "cell_type": "markdown",
   "metadata": {},
   "source": [
    "Evaluation\n",
    "==========\n",
    "\n",
    "Evaluation is mostly the same as training, but there are no targets so\n",
    "we simply feed the decoder's predictions back to itself for each step.\n",
    "Every time it predicts a word we add it to the output string, and if it\n",
    "predicts the EOS token we stop there. We also store the decoder's\n",
    "attention outputs for display later.\n",
    "\n",
    "\n"
   ]
  },
  {
   "cell_type": "code",
   "execution_count": 78,
   "metadata": {},
   "outputs": [],
   "source": [
    "from beam_search import beam_search\n",
    "\n",
    "def evaluate(encoder, decoder, sentence, beam_size=3,max_hypotheses=None,max_length=MAX_LENGTH):\n",
    "    with torch.no_grad():\n",
    "        input_tensor = tensorFromSentence(input_lang, sentence)\n",
    "        input_length = input_tensor.size()[0]\n",
    "        encoder_hidden = encoder.initHidden()\n",
    "\n",
    "        encoder_outputs = torch.zeros(max_length, encoder.hidden_size, device=device)\n",
    "\n",
    "        for ei in range(input_length):\n",
    "            encoder_output, encoder_hidden = encoder(input_tensor[ei],\n",
    "                                                     encoder_hidden)\n",
    "            encoder_outputs[ei] += encoder_output[0, 0]\n",
    "\n",
    "        decoder_input = torch.tensor([[SOS_token]], device=device)  \n",
    "\n",
    "        decoder_hidden = encoder_hidden\n",
    "\n",
    "        decoded_words = []\n",
    "        decoder_attentions = torch.zeros(max_length, max_length)\n",
    "        \n",
    "        decoded_words = beam_search(beam_size, decoder, decoder_input, max_length, decoder_hidden, encoder_outputs,EOS_token,output_lang,max_hypotheses)\n",
    "        return decoded_words\n",
    "       "
   ]
  },
  {
   "cell_type": "markdown",
   "metadata": {},
   "source": [
    "We can evaluate random sentences from the training set and print out the\n",
    "input, target, and output to make some subjective quality judgements:\n",
    "\n",
    "\n"
   ]
  },
  {
   "cell_type": "code",
   "execution_count": 79,
   "metadata": {},
   "outputs": [],
   "source": [
    "def evaluateRandomly(encoder, decoder,beam_size, max_hypotheses=None, n=100):\n",
    "    for i in range(n):\n",
    "        pair = random.choice(pairs)\n",
    "        print('>', pair[0])\n",
    "        print('=', pair[1])\n",
    "        output_words = evaluate(encoder, decoder, pair[0],beam_size,max_hypotheses)\n",
    "        output_sentence = ' '.join(output_words)\n",
    "        print('beam')\n",
    "        print('<', output_sentence)\n",
    "        print('greedy')\n",
    "        output_words = evaluate(encoder, decoder, pair[0],1,max_hypotheses)\n",
    "        output_sentence = ' '.join(output_words)\n",
    "        print('<', output_sentence)\n",
    "        print('')"
   ]
  },
  {
   "cell_type": "markdown",
   "metadata": {},
   "source": [
    "Training and Evaluating\n",
    "=======================\n",
    "\n",
    "With all these helper functions in place (it looks like extra work, but\n",
    "it makes it easier to run multiple experiments) we can actually\n",
    "initialize a network and start training.\n",
    "\n",
    "Remember that the input sentences were heavily filtered. For this small\n",
    "dataset we can use relatively small networks of 256 hidden nodes and a\n",
    "single GRU layer. After about 40 minutes on a MacBook CPU we'll get some\n",
    "reasonable results.\n",
    "\n",
    ".. Note::\n",
    "   If you run this notebook you can train, interrupt the kernel,\n",
    "   evaluate, and continue training later. Comment out the lines where the\n",
    "   encoder and decoder are initialized and run ``trainIters`` again.\n",
    "\n",
    "\n"
   ]
  },
  {
   "cell_type": "code",
   "execution_count": null,
   "metadata": {
    "scrolled": true
   },
   "outputs": [],
   "source": [
    "hidden_size = 256\n",
    "encoder1 = EncoderRNN(input_lang.n_words, hidden_size).to(device)\n",
    "attn_decoder1 = AttnDecoderRNN(hidden_size, output_lang.n_words, dropout_p=0.1).to(device)\n",
    "\n",
    "trainIters(encoder1, attn_decoder1, 75000, print_every=5000)"
   ]
  },
  {
   "cell_type": "code",
   "execution_count": 85,
   "metadata": {
    "scrolled": true
   },
   "outputs": [
    {
     "name": "stdout",
     "output_type": "stream",
     "text": [
      "> il est clair que l'on peut faire de la nourriture  pour des milliards de personnes sans violer la terre sur laquelle ils vivent .\n",
      "= i think it's clear that we can make food  that will feed billions of people without raping the land that they live on .\n",
      "beam\n",
      "< SOS confident confident confident confident confident intricate mentioned mentioned personal mentioned personal recently personal recently recently personal recently recently personal procured level crooked recently recently foot personal told recently recently recently personal procured brain brain gilbert kwagiulth recently between personal level rites detectors attentuation hand recently recently recently also personal categories personal recently recently foot coastal equation 22 22 22 disgraceful tough gone gone passed level check rites psychologist challenger props complicate think between america personal starts psychologist attentuation psychologist structure mentioned mentioned personal recently personal recently personal procured recently foot personal told recently recently foot personal procured brain over-anticipated mentioning pray mentioning seconds gilbert think think gilbert kwagiulth personal kwagiulth recently recently personal procured between playoff yet emitters gilbert think gilbert kwagiulth shorts shorts cyborg categories categories categories phone over-anticipated categories personal starts plagues gone attentuation over-anticipated over-anticipated coastal playoff lead intricate mentioned mentioned personal recently recently personal procured level crooked recently recently recently personal recently foot personal told recently recently recently foot told recently recently short palo recently recently recently personal recently personal procured brain coalergy level lonely plagues plagues coalergy categories over-anticipated categories personal recently recently personal recently foot personal kwagiulth personal recently recently personal procured crooked mentioning drinking speared genocide lessons shorts snapshot shorts snapshot gilbert shorts personal kwagiulth recently recently personal foot procured mentioning told categories gilbert categories personal categories over-anticipated categories categories rites psychologist structure worthwhile worthwhile spends afar playoff psychologist 22 22 22 22 22 tough gone disgraceful went encounter structure starve beginning playoff dreamscapes structure paraphrase structure passed mentioned mentioned personal personal procured crooked overcooked intricate mentioned mentioned personal personal recently recently foot dances personal procured brain gilbert kwagiulth brain gilbert brain gilbert kwagiulth personal level recently recently recently personal recently recently foot leveling tricky afar attentuation structure think gilbert think gilbert kwagiulth recently personal recently personal procured level recently recently recently name deliberately weave backwards ok intricate mentioned bond chilling encounter structure micrograph frequently frequently frequently disgraceful scar palo categories categories categories phone phone default backwards successful successful cure angeles money categories categories complicate over-anticipated personal recently recently personal procured level crooked engineer 22 22 22 22 22 disgraceful gone disgraceful level managed managed managed managed study study gilbert tragic personal procured snapshot gilbert gilbert shorts snapshot rites psychologist attentuation structure coalergy categories playoff psychologist structure coalergy coalergy pareto-improving bell bots went categories categories phone personal recently recently recently leveling also personal level engineer detectors palo bots added went india categories categories over-anticipated over-anticipated categories categories over-anticipated categories rites categories over-anticipated categories categories phone phone capsule beginning happily categories categories categories phone default wifi yes structure trees happily worthwhile gilbert weave personal psychologist mentioned bell did bigger intricate mentioned bond rest level rites gone disgraceful palo psychologist structure trees happily worthwhile spends gilbert gilbert types categories categories air-conditioning think think gilbert gilbert think think bell bell bots categories categories structure categories phone phone capsule angeles went successful speared values structure passed worthwhile spends gilbert mentioned mentioned personal personal procured crooked recently recently foot dances gilbert yes personal procured structure crooked unto lessons delivers shorts snapshot gilbert shorts snapshot gilbert kwagiulth shorts snapshot personal gone passed level lonely rites gone castrated palo structure gone castrated castrated ambivalently deplete deplete between frequently frequently genes disgraceful scar palo bots complicate communications rites drinking drinking speared micrograph told told recently recently foot leveling personal recently personal procured level crooked recently recently recently personal able angeles adjust pray playoff dependence dances micrograph 3d ran personal recently foot personal procured mentioning drinking lessons shorts personal recently personal procured level lonely did eric intricate trees laureate shorts shorts\n",
      "greedy\n",
      "< SOS confident confident confident confident confident confident mentioned speared big seconds seconds seconds structure micrograph frequently rubbing playoff psychologist communications canopy engineer gone passed level lonely plagues coalergy backwards noble pareto-improving noble popular coalergy pareto-improving interesting over-anticipated personal categories rites categories complicate over-anticipated coastal 2,000 deplete brain coalergy seconds level backwards successful successful cure gone higher attentuation over-anticipated categories personal recently recently personal procured level breakthrough went happily leveling shorts snapshot gilbert shorts snapshot personal kwagiulth recently personal recently personal procured brain lessons categories rites categories over-anticipated categories phone personal recently recently personal recently recently foot coastal playoff dreamscapes adjust pray advantage lives deplete plagues coalergy backwards yanomami pareto-improving went leveling breakthrough went leveling inherent spoken shorts popular categories structure coalergy categories playoff everyone members seconds seconds complicate communications canopy drinking drinking speared micrograph told speared told weight level intricate mentioned bond personal level engineer gone palo recently personal personal procured level playoff level engineer terms popular micrograph frequently frequently minutes deplete plagues plagues coalergy backwards yanomami pareto-improving went leveling shorts mentioning seconds complicate communications rites psychologist challenger everyone seconds seconds 22 22 disgraceful deplete brain coalergy level coalergy backwards kwagiulth level intricate dependence dances micrograph managed managed study structure rites attentuation able clear trees happily population drinking speared big seconds seconds over-anticipated personal recently level engineer gone weave level engineer gone level engineer gone palo dice categories structure coalergy categories categories phone capsule temperatures temperatures lives deplete deplete coalergy seconds seconds seconds seconds 22 backwards deplete brain coalergy pareto-improving leveling seconds backwards noble noble 22 22 22 disgraceful deplete brain coalergy level plagues coalergy backwards yet clear went pareto-improving leveling shorts colonialism coalergy level coalergy pareto-improving few went india categories categories phone recently between personal recently personal powerfully level alaska hand detectors palo recently personal recently recently personal procured level crooked personal recently personal procured level crooked recently recently recently dances gilbert weave engineering introduced mentioning seconds 22 22 22 deplete deplete coalergy coalergy level plagues backwards noble popular seconds seconds 22 22 deplete brain coalergy pareto-improving held canopy speared deplete step-by-step money lives indigenous frequently starts palo plagues gone attentuation structure knee shorts crooked micrograph personal procured brain coastal playoff coastal equation encounter structure frequently frequently frequently minutes categories playoff structure dreamscapes dreamscapes gilbert legacy surgery knee sustainability gilbert gilbert kwagiulth shorts snapshot shorts gilbert kwagiulth shorts snapshot shorts snapshot gilbert shorts snapshot personal kwagiulth recently personal procured level playoff plagues plagues pareto-improving backwards noble popular went successful divine unto between america personal gone level engineer gone level happily recently foot coastal playoff dreamscapes lined level micrograph told weight recently shorts shorts mentioning by mentioned personal recently recently recently foot coastal dances seconds complicate communications canopy canopy drinking micrograph snapshot bigger intricate mentioned bond gilbert shorts personal kwagiulth recently personal procured level crooked adjust intricate mentioned bond level frequently frequently disgraceful palo gone level engineer gone level engineer gone number attentuation psychologist challenger angeles between psychologist communications canopy temperatures passed canopy lonely plagues coalergy backwards yanomami pareto-improving delivers photosynth gilbert think gilbert kwagiulth shorts snapshot playoff gilbert shorts personal kwagiulth recently recently foot coastal playoff assemble check playoff psychologist challenger everyone seconds seaweed props adaptive bigger bigger rubbing gilbert weave snapshot gilbert shorts personal gone snapshot attentuation dots coalergy backwards level few pareto-improving happily leveling categories complicate categories over-anticipated categories categories phone phone capsule beginning speared lives yes structure think think bell damian playoff dreamscapes gilbert brain 1982 1982 clear trees happily lives deplete frequently frequently frequently minutes deplete deplete brain coalergy pareto-improving leveling went categories categories over-anticipated over-anticipated categories phone personal gone level trees happily bigger snapshot\n",
      "\n",
      "> nous ne pouvons peut-être pas effacer 500 ans de pensée humaniste rationnelle en un seul discours de 18 minutes .\n",
      "= maybe we can't just erase 500 years of rational humanistic thought in one 18 minute speech .\n"
     ]
    },
    {
     "name": "stdout",
     "output_type": "stream",
     "text": [
      "beam\n",
      "< SOS confident confident confident intricate mentioned mentioned bond gilbert personal kwagiulth recently personal procured playoff yet big seconds seconds 22 22 disgraceful deplete brain trees rites psychologist leveling went psychologist structure passed mentioned rites division level managed managed managed study study gilbert yes personal procured brain gilbert kwagiulth personal recently personal recently personal procured level crooked adjust intricate mentioned bond 22 22 22 22 22 disgraceful tough gone disgraceful disgraceful captain categories yes structure structure knee passed knee unfolds gilbert shorts snapshot shorts personal kwagiulth recently recently personal recently personal recently recently personal foot personal procured level crooked recently recently recently personal foot personal procured brain gilbert kwagiulth personal recently recently foot leveling seconds seconds complicate communications rites gone attentuation psychologist structure micrograph structure micrograph call intricate mentioned mentioned personal personal recently recently foot personal procured mentioning told weight recently recently gilbert weave personal psychologist attentuation psychologist challenger lessons gilbert shorts cyborg successful successful yet emitters between frequently frequently minutes categories categories categories air-conditioning think think gilbert types photosynth quarter gilbert think think bell bell crooked delivers 22 22 22 22 22 disgraceful tough gone palo gone employer attentuation structure think think bell bell damian divine level managed managed managed 2050 afar recently recently personal foot recently dances personal recently foot personal procured mentioning told recently recently foot gilbert weave personal kwagiulth personal recently recently foot dances knee sustainability gilbert kwagiulth shorts personal recently personal procured brain level rites population attentuation hand structure trees rites psychologist attentuation structure dots america dependence intricate psychologist structure micrograph call intricate mentioned between personal bond chilling mentioning managed managed rainforest study gilbert types able photosynth photosynth america categories personal starts require mentioning america seconds seconds structure spear intricate mentioned mentioned personal personal procured recently personal procured crooked brain 22 22 22 disgraceful deplete deplete coalergy seconds seconds level complicate communications level america dependence deplete plagues coalergy categories backwards yet emitters between backwards america dependence intricate psychologist challenger lonely did beginning happily happily lives categories categories over-anticipated categories rites categories rites categories over-anticipated categories complicate categories over-anticipated categories categories phone over-anticipated categories rites rites psychologist structure frequently rubbing playoff psychologist attentuation structure mentioned personal personal hand recently personal procured recently recently foot personal procured mentioning told recently foot gilbert protective frequently frequently frequently disgraceful unto yes bots structure passed went yet emitters 22 22 frequently frequently name deliberately weave backwards ok intricate mentioned mentioned personal recently personal recently personal level engineer gone palo recently categories personal recently recently personal procured level recently personal recently personal level level micrograph managed 2050 study personal level engineer gone palo structure worthwhile equipped intricate psychologist challenger lonely unfolds april went beginning over-anticipated categories categories over-anticipated categories rites categories encounter structure coalergy categories air-conditioning afraid over-anticipated categories gilbert yes structure think think bell damian divine intricate mentioned mentioned personal recently recently personal procured level level crooked recently recently personal mentioning seconds complicate communications level rites detectors attentuation over-anticipated categories over-anticipated categories rites categories alaska categories rites categories encounter structure starve dreamscapes dreamscapes structure knee intricate mentioned mentioned personal recently recently foot personal recently recently foot yes leveling seconds seconds sustainability gilbert gilbert kwagiulth brain gilbert gilbert kwagiulth shorts snapshot personal foot personal mentioning told told recently recently foot coastal playoff lead intricate mentioned mentioned personal told recently recently recently biomedical personal level intricate mentioned mentioned recently personal recently personal procured brain 22 22 22 disgraceful tough gone disgraceful unto genes yes personal procured crooked structure crooked interesting attentuation over-anticipated over-anticipated pennsylvania pennsylvania confident confident confident intricate mentioned mentioned personal recently personal personal procured level crooked recently recently foot personal procured\n",
      "greedy\n",
      "< SOS confident confident confident confident confident confident mentioned speared big weight pareto-improving deplete kwagiulth recently recently dances knee gilbert shorts personal kwagiulth recently recently personal procured mentioning told recently recently personal recently foot personal recently personal procured level crooked adjust intricate mentioned bond rest level think transcendent seconds went yet well leveling america seconds seconds went structure categories categories air-conditioning structure crooked rites attentuation over-anticipated hand categories personal recently personal recently foot personal procured level crooked recently dances gilbert eric brain gilbert kwagiulth brain population managed level managed 2050 afar recently recently foot personal recently foot leveling seconds seconds seconds complicate communications level rites america dependence speared bone deplete plagues coalergy pareto-improving categories leveling backwards level breakthrough went successful divine crooked bigger bigger rubbing rites lives yes structure weight unto gilbert pennsylvania pennsylvania deplete wifi drinking speared speared big seconds complicate communications canopy canopy pray lives 1982 yes personal procured crooked recently recently personal procured crooked recently recently foot personal recently personal recently recently foot gilbert weave personal deplete brain coalergy level coalergy backwards level engineer micrograph indigenous gone level engineer gone palo level alaska check playoff dependence intricate mentioned personal level engineer gone attentuation structure coalergy seconds interesting over-anticipated personal recently recently personal recently foot personal procured level recently recently recently foot personal procured brain gilbert brain gilbert kwagiulth brain gilbert types weight brain gilbert weave gilbert shorts real-time personal crooked levels gone disgraceful level replacements intricate mentioned personal level recently recently personal recently personal procured level recently recently personal procured level cyborg categories structure playoff yet emitters 22 deplete frequently frequently frequently minutes categories categories leveling over-anticipated categories phone backwards went successful chilling divine level engineer gone level engineer gone palo structure passed gone level trees happily happily worthwhile backwards yet seconds 22 22 disgraceful communications level backwards referred seconds seconds complicate communications level rites gone palo gone level alaska few seconds seconds 22 22 22 disgraceful gone level trees happily bigger gone level check rites psychologist leveling went categories over-anticipated categories rites mentioning categories complicate categories over-anticipated categories rites categories compared 22 22 22 disgraceful deplete brain coalergy level pareto-improving happily leveling seconds seconds seconds complicate communications level rites seconds complicate seconds 22 22 disgraceful deplete brain coalergy categories categories phone categories phone indigenous gone level trees happily lives micrograph 3d micrograph told deplete plagues seconds seconds over-anticipated personal personal procured level crooked recently recently recently personal recently foot leveling seconds seconds seconds complicate communications canopy equation 22 22 disgraceful scar palo bots deplete deplete coalergy coalergy pareto-improving categories equipped categories deplete coalergy endangered level plagues coalergy pareto-improving coalergy backwards photosynth america dependence deplete between frequently frequently minutes deplete plagues coalergy backwards yet cantaloupe bots went structure categories structure crooked micrograph told categories personal recently recently foot leveling seconds complicate deplete between coalergy level plagues backwards successful palo yes structure weight unto rites america categories complicate categories over-anticipated categories rites categories over-anticipated categories categories phone phone capsule wifi drinking speared genocide speared 2,000 intricate dreamscapes structure passed mentioned personal successful speared speared romans deplete deplete coalergy plagues coalergy pareto-improving backwards yanomami pareto-improving went categories leveling seconds seconds complicate communications canopy canopy equation 22 22 22 disgraceful tough gone disgraceful unto yes structure weight psychologist challenger lessons went structure frequently frequently legacy surgery categories categories over-anticipated categories phone capsule wifi emotion gilbert yes structure weight unto playoff yet emitters gilbert types 22 22 22 22 disgraceful deplete brain coalergy coalergy backwards kwagiulth level terms snapshot playoff gilbert weave slide snapshot gilbert shorts snapshot playoff gilbert shorts micrograph snapshot personal procured crooked recently personal procured brain gilbert kwagiulth brain\n",
      "\n",
      "> vous savez, un des plaisirs intenses du voyage et un des délices de la recherche ethnographique est la possibilité de vivre parmi ceux qui n'ont pas oublié les anciennes coutumes, qui ressentent encore leur passé souffler dans le vent, qui le touchent dans les pierres polies par la pluie, le dégustent dans les feuilles amères des plantes .\n",
      "= you know, one of the intense pleasures of travel and one of the delights of ethnographic research is the opportunity to live amongst those who have not forgotten the old ways, who still feel their past in the wind, touch it in stones polished by rain, taste it in the bitter leaves of plants .\n"
     ]
    },
    {
     "name": "stdout",
     "output_type": "stream",
     "text": [
      "beam\n",
      "< SOS confident confident confident confident intricate psychologist mentioned mentioned personal recently personal recently foot personal recently foot coastal hand recently recently personal foot personal procured brain gilbert kwagiulth brain recently gilbert kwagiulth personal recently recently recently foot gilbert weave personal kwagiulth recently personal recently personal recently foot personal procured drinking speared speared big seconds seconds 22 22 22 22 disgraceful tough gone gone disgraceful palo blaise gone employer intricate mentioned mentioned personal recently personal procured level recently recently recently personal procured categories structure playoff structure frequently frequently minutes structure knee passed mentioned personal personal recently recently recently foot leveling seconds seconds awkwardly structure knee intricate mentioned mentioned personal personal mentioned personal recently personal procured level crooked recently recently recently personal foot personal procured mentioning mentioning told weight pareto-improving interesting over-anticipated personal recently recently recently foot personal procured able biomedical structure starve frequently frequently playoff structure unto playoff yet lead 22 22 disgraceful deplete frequently frequently genes disgraceful equipped deplete brain coalergy plagues coalergy backwards yanomami pareto-improving object delivers shorts snapshot gilbert kwagiulth shorts snapshot shorts snapshot gilbert kwagiulth rest dreamscapes storyteller storyteller population managed managed managed managed 2050 study detectors palo bots structure weight america dependence intricate psychologist structure micrograph yes structure think passed mentioned personal speared 2,000 intricate mentioned personal level rites gone palo psychologist structure micrograph knee intricate mentioned bond identity intricate mentioned bond identity intricate mentioned bond identity intricate mentioned personal mentioned personal recently recently recently personal personal procured level crooked recently recently personal procured brain gilbert kwagiulth brain gilbert kwagiulth personal recently personal recently recently leveling dissolution leveling seconds seconds complicate communications canopy rites drinking psychologist captain clear trees happily bigger snapshot gilbert shorts snapshot personal personal procured personal crooked recently recently personal recently recently foot dances leveling seconds seconds structure passed mentioned personal told recently recently personal recently recently foot leveling knee seconds seconds 22 22 22 structure crooked bigger intricate mentioned rites equation psychologist structure knee attentuation gilbert kwagiulth structure starve dreamscapes beginning categories structure knee mentioning mentioned personal told recently recently foot personal procured mentioning told recently recently recently also personal categories personal recently personal recently recently biomedical spends level managed managed 2050 afar recently recently recently foot gilbert kwagiulth personal recently personal procured brain cyborg categories over-anticipated categories structure categories rites categories categories complicate categories over-anticipated categories complicate categories over-anticipated categories personal recently recently recently foot leveling seconds seconds 22 22 disgraceful deplete deplete coalergy deplete endangered plagues coalergy pareto-improving went categories over-anticipated categories personal recently recently personal procured categories personal recently recently foot leveling seconds complicate communications canopy adjust pray advantage seconds 22 22 22 disgraceful tough gone disgraceful palo gone level managed level managed managed managed poetry managed managed 2050 study frequently structure frequently frequently minutes categories categories categories phone phone default frequently frequently disgraceful unto rites division pareto-improving leveling went pareto-improving categories categories complicate categories over-anticipated categories phone categories phone default frequently minutes categories structure trees happily frequently frequently frequently division merrill attentuation structure think bell bell bots went categories over-anticipated categories phone personal recently personal recently foot personal powerfully powerfully unto intricate psychologist structure micrograph passed mentioned personal personal procured level lonely plagues coalergy plagues coalergy backwards yanomami pareto-improving went pareto-improving leveling seconds over-anticipated categories personal recently recently recently personal recently name leveling seconds seconds 22 22 22 disgraceful disgraceful ok deplete frequently frequently frequently disgraceful palo pleasant bots categories structure rites psychologist structure trees psychologist attentuation psychologist mentioned bell lonely did bigger intricate mentioned between rites psychologist structure micrograph micrograph quarter told weight told recently recently personal recently foot told recently recently personal recently foot leveling seconds\n",
      "greedy\n",
      "< SOS confident confident confident confident mentioned speared frequently frequently minutes deplete plagues coalergy backwards yet pond pareto-improving went pareto-improving leveling seconds seconds seconds complicate communications level backwards referred seconds seconds backwards yet emitters seconds went leveling seconds complicate went 3d seconds 22 22 structure crooked trees happily bigger bigger rubbing gilbert protective frequently frequently frequently minutes name leveling seconds went beginning categories personal recently recently foot leveling seconds seconds complicate communications rites drinking psychologist attentuation psychologist challenger micrograph told speared told weight psychologist challenger playoff everyone mentioning told deplete deplete coalergy seconds coalergy backwards level think think bell bell bots categories structure coalergy backwards kwagiulth dreamscapes degenerate playoff gilbert brain gilbert kwagiulth personal level micrograph told recently recently foot gilbert protective frequently frequently disgraceful unto yes structure passed mentioned personal personal procured intricate mentioned level recently personal procured able gilbert weave introduced 22 22 deplete frequently frequently minutes deplete plagues coalergy backwards level crooked plagues 5,000 rites gone attentuation structure coalergy backwards yet bell did bigger knee level frequently frequently disgraceful unto poison lessons went leveling seconds seconds over-anticipated categories personal categories personal recently recently foot personal procured crooked recently dances gilbert personal kwagiulth recently personal recently foot personal procured mentioning drinking lessons shorts snapshot gilbert gilbert shorts real-time plagues gone attentuation over-anticipated categories categories phone backwards noble snapshot playoff psychologist canopy engineer gone palo charge intricate mentioned bond level palo dice pareto-improving categories categories phone recently personal recently foot personal procured level crooked plagues coalergy backwards noble yet 22 22 deplete brain coalergy pareto-improving deplete coalergy pareto-improving coalergy backwards yanomami pareto-improving photosynth categories air-conditioning think gilbert types photosynth quarter speared told speared romans deplete plagues plagues coalergy backwards yet emitters 22 22 shorts crooked bigger rubbing gilbert protective frequently frequently frequently disgraceful unto yes personal procured brain gilbert types weight able photosynth america dependence deplete pond deplete coalergy endangered plagues coalergy backwards yanomami pareto-improving leveling seconds seconds went over-anticipated categories categories complicate categories over-anticipated categories personal categories categories phone backwards noble went happily lives snapshot palo melting bots deplete majority went india playoff assemble 22 22 melting bots deplete coalergy seconds seconds over-anticipated personal recently personal procured level crooked recently recently personal procured brain gilbert weave personal level engineer gone level palo recently recently personal recently foot personal procured level crooked recently recently foot coastal playoff dreamscapes pareto-improving leveling went encounter structure coalergy backwards yet emitters went happily leveling america dependence deplete brain coalergy pareto-improving few categories rites leveling went happily leveling seconds adjust seconds seconds 22 disgraceful communications level america personal starts plagues attentuation money money categories categories over-anticipated categories phone phone capsule recently angeles between cyborg categories categories complicate over-anticipated categories phone phone capsule pareto-improving leveling lives yes palo recently recently personal recently personal procured level crooked adjust lessons delivers gilbert shorts personal recently personal procured brain gilbert brain gilbert kwagiulth brain gilbert kwagiulth personal recently foot coastal playoff dreamscapes structure rites categories rites gone structure trees happily psychologist leveling leveling went pareto-improving leveling breakthrough went breakthrough went leveling kwagiulth structure playoff dreamscapes structure passed knee level intricate bass dependence intricate mentioned mentioned personal personal level crooked recently recently personal procured level crooked recently recently foot dances coastal playoff lead complicate canopy communications canopy canopy dependence speared micrograph told deplete deplete drinking coalergy endangered shorts plagues crooked personal recently recently recently personal foot dances personal procured brain gilbert brain gilbert kwagiulth personal level recently recently foot recently dances gilbert weave personal kwagiulth level recently recently personal procured level playoff plagues skeptical skeptical intricate mentioned personal personal procured level crooked recently recently foot playoff gilbert weave personal kwagiulth\n",
      "\n",
      "> cet incroyable liberté de choix dans le travail nous impose de choisir encore et encore et encore, si vous devons travailler ou pas .\n",
      "= so what this means, this incredible freedom of choice we have with respect to work, is that we have to make a decision, again and again and again, about whether we should or shouldn't be working .\n"
     ]
    },
    {
     "name": "stdout",
     "output_type": "stream",
     "text": [
      "beam\n",
      "< SOS confident confident confident confident intricate mentioned mentioned personal recently recently personal foot told recently personal recently recently foot leveling seconds seconds interesting over-anticipated personal recently recently recently personal recently recently also personal recently personal personal procured personal level crooked recently recently foot dances leveling seconds seconds complicate communications level america personal gone spends level level engineer gone weave attentuation psychologist structure micrograph frequently frequently frequently disgraceful minutes categories categories categories categories air-conditioning structure think pray playoff dreamscapes gilbert kwagiulth dreamscapes structure passed intricate mentioned mentioned personal mentioned personal bond personal mentioning told recently recently personal recently recently personal recently foot personal procured mentioning told drinking speared big seconds seconds sustainability gilbert kwagiulth brain gilbert kwagiulth recently delivers shorts personal personal procured recently personal recently recently recently foot personal recently dances gilbert legacy managed managed managed 2050 study structure knee rites attentuation psychologist structure coalergy coalergy clear went pareto-improving held deplete between coalergy coalergy backwards kwagiulth shorts snapshot gilbert personal kwagiulth recently personal personal procured structure crooked micrograph told categories personal categories personal recently recently recently foot leveling seconds seconds complicate communications level america personal gone level trees happily recently recently foot leveling seconds seconds complicate communications level recently recently foot personal mentioning told recently recently personal mentioning told recently recently foot leveling seconds seconds complicate communications level rites gone disgraceful palo categories alaska categories categories rites categories rites categories categories complicate seconds over-anticipated categories categories rites categories over-anticipated categories over-anticipated categories phone personal recently recently personal procured recently recently personal procured mentioning told recently recently personal recently personal categories personal mentioning told recently recently recently recently foot personal procured brain gilbert kwagiulth shorts personal gone level engineer gone palo gone categories phone capsule happily lives deplete plagues plagues mentioned mentioned personal personal procured crooked recently recently able angeles 23 categories rites categories leveling seconds seconds complicate communications level rites america gone attentuation structure think think bell damian bell playoff slide gilbert think think gilbert think bell delivers 22 22 22 22 disgraceful managed managed managed managed 2050 study personal level engineer detectors palo melting bots snapshot playoff psychologist challenger lonely rites psychologist went leveling seconds over-anticipated slide snapshot lessons gilbert shorts snapshot gilbert shorts snapshot gilbert kwagiulth brain gilbert kwagiulth personal recently personal foot personal mentioning india categories categories categories over-anticipated personal recently recently foot leveling seconds complicate communications canopy equation 22 22 22 22 disgraceful tough gone disgraceful unto genes personal procured level level frequently frequently structure crooked crooked adjust intricate mentioned recently personal recently recently personal procured personal recently foot personal recently foot leveling tricky bots went structure frequently frequently mentioning seconds seconds structure spear think think bell bell bell categories categories categories air-conditioning lama gilbert think seconds gilbert think gilbert types quarter gilbert think gilbert kwagiulth recently shorts shorts snapshot gilbert kwagiulth shorts snapshot playoff gilbert kwagiulth shorts personal personal recently recently personal recently recently personal procured categories delivers 22 22 22 22 structure frequently frequently minutes structure paraphrase structure think think gilbert think gilbert kwagiulth kwagiulth recently recently between dreamscapes gilbert english rites gone attentuation over-anticipated slide coalergy coalergy backwards kwagiulth matter level breakthrough went happily leveling categories complicate categories over-anticipated categories over-anticipated categories categories complicate over-anticipated categories rites categories complicate categories over-anticipated coastal recently recently dances gilbert gilbert kwagiulth personal yes structure weight rainforest america 1958 maybe engineer 2,000 micrograph yes structure passed intricate mentioned mentioned personal bond chilling personal level level engineer gone level engineer gone palo structure micrograph psychologist structure knee intricate mentioned mentioned personal recently recently foot personal procured mentioning told weight told weight told weight pareto-improving interesting over-anticipated noble personal\n",
      "greedy\n",
      "< SOS confident confident confident confident confident mentioned speared frequently frequently disgraceful workers mentioning seconds seconds structure distributed categories categories phone backwards noble popular deplete coalergy seconds backwards yet went happily coastal america seconds complicate communications canopy canopy drinking drinking speared big seconds seconds over-anticipated slide coalergy backwards noble snapshot playoff gilbert shorts snapshot gilbert shorts snapshot gilbert kwagiulth shorts personal snapshot snapshot gilbert shorts snapshot playoff shorts snapshot playoff gilbert mentioned personal personal around personal kwagiulth structure starve dreamscapes structure playoff yet lead mentioned personal recently personal procured level recently playoff yet emitters money money categories complicate communications drinking rites psychologist attentuation over-anticipated categories rites psychologist structure coalergy yet lead intricate mentioned between personal mentioned personal recently recently foot coastal playoff assemble 22 22 structure crooked bigger intricate mentioned between personal recently foot leveling playoff gilbert shorts snapshot gilbert kwagiulth personal level crooked recently recently personal recently foot leveling shorts snapshot gilbert gone level engineer gone level engineer detectors attentuation structure think bell crooked adjust interesting over-anticipated personal recently recently personal level recently personal procured level crooked recently recently personal procured level crooked recently personal foot dances photographer seconds gilbert shorts snapshot playoff gilbert shorts snapshot playoff gilbert shorts snapshot gilbert personal kwagiulth shorts snapshot playoff gilbert shorts snapshot gilbert shorts shorts personal kwagiulth recently recently personal procured brain gilbert brain gilbert kwagiulth brain leveling bass gilbert brain gilbert weave real-time personal deplete kwagiulth brain recently gilbert personal kwagiulth recently shorts name personal recently level recently personal recently foot dances personal procured brain gilbert weave slide snapshot gilbert shorts personal kwagiulth recently recently personal procured brain gilbert weave slide snapshot categories personal gone level lama managed level happily recently categories leveling seconds seconds over-anticipated held level rites gone level alaska check playoff psychologist challenger everyone seconds seconds went structure beginning playoff yet lead intricate mentioned mentioned personal personal personal procured level crooked recently dances personal procured brain recently coastal playoff lead 22 22 structure crooked bigger bigger rubbing rites psychologist leveling money gone passed level lonely rites america dependence deplete melting recently coastal playoff knee shorts snapshot personal procured crooked plagues attentuation over-anticipated personal categories personal recently recently foot leveling seconds seconds complicate communications level plagues coalergy backwards successful chilling rubbing yes structure crooked micrograph call intricate mentioned personal mentioned personal level engineer gone level weave level engineer gone palo structure gone attentuation money breakthrough told weight level engineer gone palo slavery attentuation angeles money breakthrough went successful biomedical structure frequently frequently structure crooked categories personal mentioning told recently recently name leveling seconds seconds 22 22 22 disgraceful deplete brain coalergy seconds over-anticipated personal level rites gone attentuation over-anticipated categories over-anticipated categories categories phone phone capsule snapshot gilbert personal kwagiulth personal level recently personal procured level recently recently recently personal procured level recently between personal recently foot leveling seconds complicate communications canopy canopy drinking drinking speared micrograph told weight told recently recently personal recently personal procured level crooked recently recently foot personal procured level coalergy pareto-improving coalergy backwards noble backwards noble pareto-improving frequently frequently minutes deplete plagues coalergy backwards yet bell bots went categories categories phone personal recently personal procured level detectors speared seconds 22 22 22 disgraceful deplete deplete coalergy level coalergy level backwards successful palo plagues gone attentuation over-anticipated categories structure playoff psychologist structure micrograph told deplete deplete drinking speared micrograph told speared told weight recently recently gilbert shorts personal kwagiulth recently personal powerfully level frequently frequently rubbing genes yes structure frequently frequently frequently minutes categories structure categories playoff dreamscapes lives categories structure crooked interesting over-anticipated personal recently personal procured level crooked recently personal procured level crooked recently\n",
      "\n",
      "> en défiant ces associations, elle montre comment l'adversité - dans son cas, être née sans tibias - ouvre en réalité la porte au potentiel humain .\n",
      "= defying these associations, she shows how adversity -- in her case, being born without shinbones -- actually opens the door for human potential .\n"
     ]
    },
    {
     "name": "stdout",
     "output_type": "stream",
     "text": [
      "beam\n",
      "< SOS himalayas himalayas fertilizer fertilizer himalayas gilbert legacy surgery gilbert protective frequently frequently disgraceful unto yes structure gone structure passed knee intricate mentioned personal personal procured level intricate mentioned bond gilbert gilbert think think gilbert kwagiulth recently personal recently personal mentioning told recently recently foot personal recently foot leveling seconds complicate communications canopy seconds seconds seconds 22 22 22 22 22 disgraceful 22 disgraceful deplete frequently frequently disgraceful unto poison leveling went encounter structure starve crooked categories personal recently recently personal procured brain gilbert over-anticipated personal level recently recently foot leveling seconds seconds complicate communications level america personal starts plagues gone attentuation over-anticipated slide coalergy level engineer props astrobiologists recently recently personal procured level crooked recently recently foot leveling seconds seconds seconds 22 22 22 22 22 disgraceful tough gone disgraceful replacements palo bots added went structure frequently frequently structure frequently rubbing genes yes structure passed knee level trees happily weave psychologist structure frequently frequently minutes categories categories compared categories categories air-conditioning think gilbert think short recently recently name seconds 22 22 22 22 22 disgraceful ok deplete deplete frequently frequently frequently disgraceful scar palo deplete deplete plagues plagues coalergy pareto-improving went categories over-anticipated categories over-anticipated categories phone backwards noble noble personal procured brain 22 22 22 22 disgraceful deplete brain farming rites america categories over-anticipated categories personal categories over-anticipated categories phone personal recently recently foot coastal playoff dreamscapes dreamscapes structure passed mentioned rites attentuation over-anticipated speared speared genocide over-anticipated coastal playoff lead complicate communications canopy canopy drinking speared speared big frequently frequently frequently minutes deplete deplete plagues plagues miracles mentioned mentioned bond personal mentioning mentioned personal told recently recently personal procured level recently recently recently leveling gilbert shorts personal kwagiulth recently recently personal foot recently personal procured study gilbert gilbert think think gilbert kwagiulth kwagiulth recently shorts name deliberately weave backwards kwagiulth structure intricate mentioned mentioned personal personal recently personal kwagiulth recently recently personal personal procured level crooked recently recently foot personal told recently recently foot coastal playoff seconds adjust interesting over-anticipated personal categories personal recently recently recently foot personal recently recently foot personal recently recently foot leveling seconds complicate communications rites rites america gone attentuation structure weight america dependence melting bots deplete deplete plagues coalergy pareto-improving went categories leveling seconds complicate communications rites categories rites alaska drinking went categories over-anticipated categories categories over-anticipated phone personal procured level managed level managed managed level managed managed 2050 study frequently structure frequently frequently minutes possibilities categories categories air-conditioning categories tablets managed managed poetry managed managed level managed managed 2050 afar recently recently foot personal procured level detectors seconds 22 22 deplete frequently frequently disgraceful unto rites categories categories over-anticipated categories over-anticipated categories rites categories over-anticipated categories rites categories over-anticipated categories over-anticipated categories phone rid complicate communications canopy canopy equation 22 22 22 disgraceful tough gone disgraceful palo gone employer went india categories mentioning merrill personal recently personal recently recently foot personal procured brain brain gilbert kwagiulth brain gilbert kwagiulth brain brain gilbert kwagiulth recently personal recently foot gilbert kwagiulth shorts personal recently recently foot personal procured personal procured crooked brain 22 22 22 22 22 22 disgraceful tough gone disgraceful level level trees happily happily worthwhile worthwhile spends mentioned speared big seconds seconds structure frequently frequently frequently minutes categories categories categories phone phone default backwards intricate mentioned mentioned personal personal procured level rites detectors speared seconds 22 22 22 22 22 disgraceful ok deplete deplete frequently frequently rubbing genes yes rainforest went encounter structure starve frequently categories structure rites attentuation over-anticipated hand categories yes structure rites psychologist structure knee intricate mentioned mentioned personal recently recently personal foot personal procured brain gilbert\n",
      "greedy\n",
      "< SOS tougher confident confident mentioned personal around speared seconds 22 22 disgraceful scar palo bots added went categories structure camera gilbert gilbert shorts shorts snapshot shorts melting snapshot shorts personal level frequently frequently minutes categories leveling seconds seconds complicate communications canopy attentuation engineer gone level happily micrograph 3d micrograph snapshot personal procured 2,000 intricate mentioned between personal recently personal mentioning seconds told recently recently foot personal procured brain gilbert kwagiulth brain gilbert kwagiulth recently personal foot yes structure weight unto gilbert yes personal procured level crooked plagues backwards successful yet emitters gilbert shorts gilbert shorts personal kwagiulth recently recently personal procured level crooked recently recently personal procured level detectors delivers 22 22 disgraceful tough gone level alaska trees happily lives shorts micrograph snapshot personal procured crooked recently personal procured level crooked recently recently personal recently recently personal procured playoff level engineer detectors attentuation structure think bell bell crooked brain interesting over-anticipated pennsylvania prescriptions mentally adjust playoff 22 22 disgraceful deplete brain coalergy seconds over-anticipated held level rites gone level alaska categories study recently level playoff plagues attentuation psychologist challenger playoff everyone seconds adjust interesting over-anticipated over-anticipated pennsylvania prescriptions playoff level dependence deplete plagues coalergy backwards noble 22 22 22 deplete frequently disgraceful scar palo bots gone disgraceful level celebrate trees happily lives yes structure coalergy coalergy level backwards noble intricate mentioned personal recently personal procured mentioning told categories complicate speared canopy step-by-step speared playoff normal knee mentioning mentioning managed managed managed 2050 study gilbert yes structure coalergy backwards noble personal intricate mentioned level frequently minutes name leveling seconds gilbert camera squeeze recently gilbert shorts personal personal successful speared genocide lessons shorts snapshot gilbert shorts real-time cyborg categories personal gone level engineer gone passed level intricate dependence dances micrograph speared told speared values drinking drinking speared playoff dreamscapes lined level rites alaska categories structure yes structure weight unto gilbert think think bell bell categories categories air-conditioning categories structure think think bell damian divine crooked speared disgraceful scar palo alaska categories complicate communications canopy equation 3d seconds 22 22 22 disgraceful deplete brain coalergy level backwards noble pareto-improving went happily leveling leveling seconds seconds truth complicate communications canopy canopy pray lives 1982 yes structure weight intricate mentioned between personal personal recently foot coastal playoff dreamscapes structure dreamscapes gilbert legacy managed managed managed 2050 study personal procured level engineer detectors delivers 22 22 22 disgraceful managed managed managed managed study level managed managed 2050 study level detectors structure passed intricate mentioned bond rest level think recently between playoff dreamscapes gilbert types weight pareto-improving leveling went categories complicate categories over-anticipated mentioning seconds backwards yet pond pareto-improving leveling backwards noble noble popular interesting over-anticipated pennsylvania confident confident confident mentioned speared deplete plagues coalergy backwards yanomami pareto-improving went categories over-anticipated categories complicate canopy lonely drinking drinking speared micrograph told speared deplete between frequently frequently minutes categories categories air-conditioning categories air-conditioning engineer gone passed level alaska hand level engineer detectors palo gone level engineer gone level happily leveling seconds seconds went over-anticipated categories categories categories over-anticipated categories over-anticipated categories phone personal recently recently personal procured brain gilbert kwagiulth recently personal recently personal procured level playoff dreamscapes structure passed yet knee intricate mentioned mentioned personal personal procured level categories backwards successful yet clear went successful structure crooked bigger between dreamscapes gilbert brain gilbert types brain gilbert kwagiulth personal level celebrate successful yes structure think bell categories categories playoff structure coalergy mentioning terms mentioning bots structure weight america melting intricate mentioned bond gilbert personal kwagiulth recently personal recently foot recently shorts personal procured did intricate mentioned bond personal level frequently frequently frequently rubbing playoff crisis life level america dependence\n",
      "\n",
      "> nous somme limités principalement par la réalité biologique et par notre imagination .\n",
      "= we're limited here primarily by a biological reality and our imagination .\n"
     ]
    },
    {
     "name": "stdout",
     "output_type": "stream",
     "text": [
      "beam\n",
      "< SOS confident confident confident confident intricate mentioned mentioned bond personal personal procured level crooked recently recently dances knee personal procured level crooked engineer gone palo gone level engineer gone level engineer gone palo bots structure trees structure micrograph knee intricate mentioned mentioned bond personal personal procured level crooked recently recently recently personal procured mentioning weave gilbert weave personal gone psychologist attentuation structure micrograph knee intricate mentioned bond rest level crooked recently personal recently foot leveling went categories structure categories categories phone phone default frequently frequently frequently disgraceful scar palo bots deplete melting bots went india categories categories over-anticipated categories leveling seconds complicate communications canopy canopy engineer 2,000 intricate dependence mentioned bond gilbert personal personal procured crooked overcooked intricate mentioned mentioned personal personal procured mentioning told recently personal procured brain gilbert gilbert kwagiulth shorts recently shorts personal recently recently personal recently recently foot dances personal procured brain playoff yet lead 22 22 disgraceful scar palo deplete melting deplete plagues plagues coalergy backwards yanomami pareto-improving deplete kwagiulth between dreamscapes structure knee frequently frequently frequently genes disgraceful equipped intricate mentioned dependence deplete between frequently frequently frequently deliberately legacy surgery trees happily coastal happily recently coastal knee gilbert types weight told weight inherent pennsylvania confident confident confident intricate mentioned mentioned bond personal personal procured crooked 22 22 22 22 22 disgraceful tough gone disgraceful gone palo dice categories categories phone phone capsule angeles went categories leveling seconds seconds complicate communications level level rites rites gone attentuation psychologist attentuation structure psychologist mentioned personal around personal mentioned personal personal recently recently personal procured crooked recently recently personal recently personal procured crooked recently personal level detectors delivers 22 22 22 22 disgraceful disgraceful ok deplete frequently frequently frequently disgraceful unto scar managed managed managed managed 2050 study structure knee frequently frequently frequently disgraceful scar palo categories complicate communications canopy drinking drinking speared speared romans deplete plagues coalergy pareto-improving went leveling happily plagues plagues coalergy backwards yet cantaloupe gilbert gilbert shorts snapshot personal recently personal foot personal procured level detectors plagues attentuation uses coalergy pareto-improving categories categories over-anticipated categories categories phone phone capsule recently recently coastal happily recently coastal knee personal procured pond weight pareto-improving pareto-improving leveling went pareto-improving categories categories complicate categories over-anticipated categories phone capsule name leveling seconds seconds 22 22 22 disgraceful deplete frequently disgraceful deplete frequently frequently disgraceful unto yes structure unto yes structure think think bell maybe maybe successful successful now seconds awkwardly structure interesting attentuation over-anticipated over-anticipated coastal playoff lead intricate mentioned mentioned personal mentioned personal mentioned personal recently recently personal recently personal level recently recently recently foot dances gilbert yes personal procured level crooked recently recently recently recently foot told recently recently personal recently foot personal procured brain gilbert kwagiulth recently shorts snapshot gilbert shorts snapshot gilbert kwagiulth shorts snapshot playoff gilbert shorts personal mentioned personal mentioned recently personal procured brain gilbert gilbert kwagiulth personal kwagiulth personal recently personal recently level recently recently recently recently personal foot personal procured level detectors plagues coalergy backwards yanomami pareto-improving pareto-improving went categories encounter structure coalergy coalergy backwards yanomami pareto-improving bots went happily lives categories research categories categories categories phone phone capsule recently name leveling seconds seconds 22 22 22 disgraceful deplete frequently frequently disgraceful unto yes structure yes structure passed knee intricate mentioned mentioned personal bond chilling personal around rubbing 22 22 22 22 disgraceful tough gone gone disgraceful replacements palo bots complicate communications canopy canopy engineer gone palo dice photographer shorts shorts snapshot gilbert kwagiulth shorts personal recently personal procured recently personal procured brain gilbert over-anticipated categories personal categories personal recently recently recently foot leveling inherent pennsylvania pennsylvania confident intricate mentioned mentioned personal\n",
      "greedy\n",
      "< SOS logic confident confident confident confident intricate mentioned bond rest level frequently frequently minutes structure frequently rubbing playoff normal bigger gilbert rubbing rites psychologist leveling went encounter structure starve categories crooked bigger rubbing gilbert kwagiulth rest dreamscapes structure crooked bigger intricate mentioned bond personal categories personal recently foot personal procured brain gilbert types categories personal recently recently foot personal procured mentioning told coastal weight recently gilbert gilbert eric brain gilbert types categories categories over-anticipated categories categories tablets chilling managed level managed level managed managed level managed managed poetry managed managed study level managed managed 2050 afar recently recently personal foot dances personal procured brain gilbert kwagiulth shorts snapshot playoff plagues coalergy backwards yet emitters gilbert shorts shorts real-time pink think think bell damian divine crooked brain 1982 clear trees happily bigger knee snapshot gilbert weave personal level detectors plagues coalergy backwards yanomami pareto-improving went categories leveling cracked-up plagues seconds over-anticipated yet emitters gilbert shorts personal mentioned personal personal procured level crooked recently personal procured brain level coalergy plagues backwards noble yet 22 22 disgraceful palo yes structure weight unto gilbert shorts snapshot playoff gilbert shorts shorts snapshot personal procured brain gilbert kwagiulth brain gilbert kwagiulth recently personal recently foot dances knee personal procured level crooked recently mentioning told recently personal foot recently coastal playoff knee level terms playoff dreamscapes structure micrograph knee personal procured level crooked recently recently foot dances gilbert legacy surgery went categories complicate drinking speared big seconds seconds 22 22 disgraceful deplete frequently frequently minutes categories categories categories backwards yet emitters between dreamscapes gilbert types photosynth photosynth unfortunately lives yes structure think mentioned personal procured personal procured level crooked recently recently foot dances personal procured brain mentioning drinking speared micrograph told told weight recently recently leveling inherent gilbert think gilbert kwagiulth shorts personal kwagiulth recently recently shorts personal mentioning told recently recently personal recently personal procured recently recently personal procured level intricate mentioned personal recently personal recently recently foot personal procured brain gilbert brain gilbert weave rubbing playoff psychologist leveling shorts colonialism cyborg categories structure crooked adjust interesting over-anticipated personal hand recently recently recently foot dances gilbert weave personal level gone level engineer gone level happily happily worthwhile spends speared speared romans deplete brain coalergy level lonely plagues coalergy backwards yet backwards successful yet emitters money money successful cure intricate mentioned mentioned personal bond level terms backwards noble snapshot palo recently dances coalergy coalergy pareto-improving categories complicate lonely rites drinking drinking speared micrograph told speared told weight told weight pareto-improving leveling inherent pennsylvania english happily worthwhile spends level lonely plagues coalergy pareto-improving categories personal categories rites gone categories complicate categories phone personal level crooked plagues crooked levels gone level engineer detectors beginning happily recently coastal equation 22 22 22 disgraceful deplete brain coalergy level plagues crooked categories personal categories deplete between coalergy backwards kwagiulth level playoff dreamscapes structure micrograph intricate mentioned personal bond chilling mentioning managed managed 2050 study structure frequently frequently legacy mentioning america categories personal deplete plagues coalergy backwards yet backwards afford photosynth level terms snapshot playoff plagues coalergy backwards yanomami pareto-improving leveling seconds seconds complicate communications canopy canopy engineer gone palo added intricate mentioned mentioned personal told recently personal procured level crooked recently recently foot dances knee personal procured brain gilbert weave personal gone level engineer gone passed level happily weave coastal seconds adjust went pareto-improving leveling went categories encounter structure coalergy yet structure crooked micrograph dreamscapes 1982 yes celebrate structure passed mentioned personal recently recently recently personal recently foot personal procured level categories complicate canopy drinking speared big seconds seconds 22 22 22 22 disgraceful deplete frequently frequently disgraceful unto categories complicate deplete\n",
      "\n",
      "> les glaces éternelles apparaissent en rouge .\n",
      "= the permanent ice is marked in red .\n"
     ]
    },
    {
     "name": "stdout",
     "output_type": "stream",
     "text": [
      "beam\n",
      "< SOS confident confident confident mentioned mentioned personal recently personal recently recently personal procured level crooked recently recently recently recently foot leveling seconds seconds complicate communications level america seconds seconds complicate communications level rites rites psychologist structure frequently frequently frequently disgraceful unto poison leveling gilbert kwagiulth personal recently personal procured brain gilbert weave slide snapshot gilbert gilbert kwagiulth shorts snapshot playoff gilbert mentioned personal personal procured crooked recently recently foot personal procured level detectors delivers personal level engineer detectors palo bots structure categories playoff psychologist challenger lessons shorts cyborg categories structure yes structure rites psychologist trees rites psychologist structure micrograph frequently frequently structure knee mentioning attentuation gilbert think gilbert gilbert kwagiulth kwagiulth shorts personal kwagiulth recently recently personal recently recently personal recently recently foot leveling seconds seconds complicate communications level rites america categories categories structure rites categories rites psychologist structure trees rites psychologist attentuation psychologist challenger based went categories structure crooked weight skeptical engineer intricate mentioned mentioned personal recently personal recently foot dances gilbert kwagiulth brain gilbert kwagiulth shorts personal recently recently recently foot leveling seconds seconds complicate communications canopy communications canopy canopy engineer gone palo gone castrated castrated palo deplete plagues plagues coalergy backwards yanomami pareto-improving went happily categories over-anticipated categories over-anticipated categories personal categories categories over-anticipated phone phone capsule recently recently also yes personal procured level crooked recently recently foot personal recently recently foot gilbert weave personal personal procured mentioning told categories recently recently foot coastal playoff coastal lead intricate mentioned mentioned personal recently personal recently recently recently foot dances personal procured brain gilbert gilbert kwagiulth shorts recently personal procured brain gilbert kwagiulth brain cyborg categories categories over-anticipated categories categories phone phone capsule temperatures passed went happily leveling seconds seconds complicate communications canopy canopy captain dreamscapes dreamscapes gilbert categories rites categories alaska categories categories compared lets categories complicate categories over-anticipated categories rites categories over-anticipated categories rites categories categories complicate categories over-anticipated categories rites categories over-anticipated categories complicate categories over-anticipated categories phone personal gone level trees happily leveling seconds complicate communications level rites detectors attentuation over-anticipated hand categories rites categories structure rites categories over-anticipated categories over-anticipated categories categories phone phone capsule name seconds structure knee intricate mentioned personal recently recently personal recently recently personal procured procured brain gilbert brain gilbert kwagiulth brain gilbert kwagiulth recently shorts personal procured brain playoff coastal lead intricate mentioned mentioned personal recently personal recently personal procured level detectors delivers 22 22 22 disgraceful managed level managed managed managed 2050 afar recently recently personal recently foot personal procured brain gilbert kwagiulth recently recently recently personal procured told recently recently recently personal recently recently recently foot dances seconds knee sustainability gilbert types went categories categories over-anticipated categories phone hated hated hated hated hated hated hated hated hated hated hated hated hated hated hated hated hated pareto-improving bots went structure categories categories structure rites mentioning pray mentioning rites went categories leveling seconds over-anticipated categories complicate plagues backwards went successful yet emitters money categories complicate between frequently frequently genes disgraceful equipped drinking deplete coalergy deplete endangered plagues plagues coalergy backwards successful successful now seconds awkwardly structure weight intricate psychologist mentioned mentioned personal recently recently personal recently name adjust 2,000 intricate mentioned between personal recently personal procured level crooked plagues 22 22 22 22 22 disgraceful deplete deplete dice brain coastal lead intricate mentioned mentioned personal recently personal recently recently foot coastal playoff coastal knee unfolds gilbert shorts melting recently recently name leveling seconds seconds 22 22 22 22 disgraceful communications rites gone attentuation psychologist structure think bell bell crooked categories delivers 22 22 structure crooked structure crooked interesting rites attentuation over-anticipated hand coastal gilbert weight managed level managed level\n",
      "greedy\n",
      "< SOS confident confident confident mentioned mentioned personal personal around speared lives snapshot gilbert yes palo structure dumb intricate mentioned mentioned personal personal level crooked recently personal level crooked recently recently dances leveling seconds seconds seconds sustainability gilbert kwagiulth structure playoff dreamscapes structure knee intricate mentioned mentioned personal recently personal procured level crooked recently personal procured crooked brain coalergy backwards kwagiulth went structure frequently frequently rubbing playoff mentioning normal structure knee frequently frequently frequently minutes categories categories leveling backwards camera seconds seconds interesting over-anticipated over-anticipated coastal playoff coastal lead intricate mentioned mentioned personal personal around mentioned personal level recently personal procured level crooked recently recently personal procured level weave astrobiologists delivers photosynth snapshot gilbert weave slide snapshot gilbert personal gone castrated castrated palo deplete deplete coalergy level coalergy deplete plagues coalergy backwards kwagiulth level recently playoff dreamscapes structure micrograph dreamscapes pareto-improving categories air-conditioning gilbert think gilbert think bell damian playoff slide coalergy gilbert kwagiulth personal recently recently leveling shorts colonialism leveling seconds seconds complicate communications canopy canopy lonely drinking coalergy coalergy backwards yet clear lives 1982 clear yes structure coalergy backwards yet emitters seconds went pareto-improving leveling shorts snapshot playoff plagues coalergy pareto-improving went leveling seconds gilbert shorts personal kwagiulth recently recently foot dances mentioning gilbert managed managed managed 2050 study personal recently level recently personal procured weave level seconds 22 22 disgraceful managed level managed managed managed study level recently recently foot dances seconds complicate communications canopy pray hand snapshot rites psychologist attentuation structure coalergy ft canopy gilbert kwagiulth structure passed mentioned personal mentioned personal recently personal foot recently personal procured level crooked micrograph intricate mentioned bond personal level crooked plagues coalergy pareto-improving went india categories categories tablets managed level managed managed level managed happily recently recently personal procured brain gilbert gilbert kwagiulth brain gilbert kwagiulth brain gilbert brain gilbert kwagiulth brain gilbert kwagiulth brain population level thunderous trees happily lives shorts snapshot playoff gilbert weave engineering personal gone level level engineer terms equipped intricate mentioned between rites psychologist structure frequently frequently frequently minutes categories categories categories phone personal recently foot leveling seconds seconds complicate communications canopy canopy drinking speared drinking speared big seconds complicate communications level rites gone attentuation over-anticipated pennsylvania deplete coalergy pareto-improving deplete plagues coalergy pareto-improving went happily lives categories yes structure gone passed level micrograph frequently frequently frequently minutes categories categories structure rites gone attentuation structure think bell tested celebrate passed went successful divine divine disgraceful unto genes disgraceful equipped brain bots went categories leveling complicate communications canopy drinking speared micrograph gone passed level micrograph told speared told recently recently personal procured level detectors plagues 22 22 22 22 22 disgraceful tough gone disgraceful gone palo structure gone passed level he outsiders plagues plagues coalergy backwards yanomami level pareto-improving few pareto-improving went categories over-anticipated categories personal categories personal recently personal procured unto stays intricate mentioned personal recently personal recently personal procured level crooked recently recently dances gilbert personal kwagiulth recently recently level recently recently recently leveling seconds complicate communications rites gone level few last seconds seconds went structure weight skeptical intricate mentioned bond gilbert personal kwagiulth recently recently recently leveling shorts name seconds 22 22 22 disgraceful deplete deplete brain coalergy seconds coalergy backwards kwagiulth shorts personal recently personal personal procured brain gilbert kwagiulth recently personal foot recently leveling shorts than photosynth knee level managed 2050 level frequently genes personal level crooked recently recently personal level crooked recently dances personal mentioning told categories personal recently foot coastal playoff lead intricate mentioned mentioned personal personal recently personal procured level crooked recently recently recently foot dances knee weave personal level recently recently foot personal procured mentioning seconds 22\n",
      "\n",
      "> et, finalement, il y a ce problème de stockage .\n",
      "= and, finally, this storage problem .\n"
     ]
    },
    {
     "ename": "KeyboardInterrupt",
     "evalue": "",
     "output_type": "error",
     "traceback": [
      "\u001b[0;31m---------------------------------------------------------------------------\u001b[0m",
      "\u001b[0;31mKeyboardInterrupt\u001b[0m                         Traceback (most recent call last)",
      "\u001b[0;32m<ipython-input-85-8abdfde7bf45>\u001b[0m in \u001b[0;36m<module>\u001b[0;34m\u001b[0m\n\u001b[0;32m----> 1\u001b[0;31m \u001b[0mevaluateRandomly\u001b[0m\u001b[0;34m(\u001b[0m\u001b[0mencoder1\u001b[0m\u001b[0;34m,\u001b[0m \u001b[0mattn_decoder1\u001b[0m\u001b[0;34m,\u001b[0m\u001b[0mbeam_size\u001b[0m \u001b[0;34m=\u001b[0m\u001b[0;36m2\u001b[0m \u001b[0;34m,\u001b[0m\u001b[0mn\u001b[0m\u001b[0;34m=\u001b[0m\u001b[0;36m10\u001b[0m\u001b[0;34m,\u001b[0m\u001b[0mmax_hypotheses\u001b[0m\u001b[0;34m=\u001b[0m\u001b[0;36m40\u001b[0m\u001b[0;34m)\u001b[0m\u001b[0;34m\u001b[0m\u001b[0;34m\u001b[0m\u001b[0m\n\u001b[0m",
      "\u001b[0;32m<ipython-input-79-420f38232068>\u001b[0m in \u001b[0;36mevaluateRandomly\u001b[0;34m(encoder, decoder, beam_size, max_hypotheses, n)\u001b[0m\n\u001b[1;32m      4\u001b[0m         \u001b[0mprint\u001b[0m\u001b[0;34m(\u001b[0m\u001b[0;34m'>'\u001b[0m\u001b[0;34m,\u001b[0m \u001b[0mpair\u001b[0m\u001b[0;34m[\u001b[0m\u001b[0;36m0\u001b[0m\u001b[0;34m]\u001b[0m\u001b[0;34m)\u001b[0m\u001b[0;34m\u001b[0m\u001b[0;34m\u001b[0m\u001b[0m\n\u001b[1;32m      5\u001b[0m         \u001b[0mprint\u001b[0m\u001b[0;34m(\u001b[0m\u001b[0;34m'='\u001b[0m\u001b[0;34m,\u001b[0m \u001b[0mpair\u001b[0m\u001b[0;34m[\u001b[0m\u001b[0;36m1\u001b[0m\u001b[0;34m]\u001b[0m\u001b[0;34m)\u001b[0m\u001b[0;34m\u001b[0m\u001b[0;34m\u001b[0m\u001b[0m\n\u001b[0;32m----> 6\u001b[0;31m         \u001b[0moutput_words\u001b[0m \u001b[0;34m=\u001b[0m \u001b[0mevaluate\u001b[0m\u001b[0;34m(\u001b[0m\u001b[0mencoder\u001b[0m\u001b[0;34m,\u001b[0m \u001b[0mdecoder\u001b[0m\u001b[0;34m,\u001b[0m \u001b[0mpair\u001b[0m\u001b[0;34m[\u001b[0m\u001b[0;36m0\u001b[0m\u001b[0;34m]\u001b[0m\u001b[0;34m,\u001b[0m\u001b[0mbeam_size\u001b[0m\u001b[0;34m,\u001b[0m\u001b[0mmax_hypotheses\u001b[0m\u001b[0;34m)\u001b[0m\u001b[0;34m\u001b[0m\u001b[0;34m\u001b[0m\u001b[0m\n\u001b[0m\u001b[1;32m      7\u001b[0m         \u001b[0moutput_sentence\u001b[0m \u001b[0;34m=\u001b[0m \u001b[0;34m' '\u001b[0m\u001b[0;34m.\u001b[0m\u001b[0mjoin\u001b[0m\u001b[0;34m(\u001b[0m\u001b[0moutput_words\u001b[0m\u001b[0;34m)\u001b[0m\u001b[0;34m\u001b[0m\u001b[0;34m\u001b[0m\u001b[0m\n\u001b[1;32m      8\u001b[0m         \u001b[0mprint\u001b[0m\u001b[0;34m(\u001b[0m\u001b[0;34m'beam'\u001b[0m\u001b[0;34m)\u001b[0m\u001b[0;34m\u001b[0m\u001b[0;34m\u001b[0m\u001b[0m\n",
      "\u001b[0;32m<ipython-input-78-f524454f6124>\u001b[0m in \u001b[0;36mevaluate\u001b[0;34m(encoder, decoder, sentence, beam_size, max_hypotheses, max_length)\u001b[0m\n\u001b[1;32m     21\u001b[0m         \u001b[0mdecoder_attentions\u001b[0m \u001b[0;34m=\u001b[0m \u001b[0mtorch\u001b[0m\u001b[0;34m.\u001b[0m\u001b[0mzeros\u001b[0m\u001b[0;34m(\u001b[0m\u001b[0mmax_length\u001b[0m\u001b[0;34m,\u001b[0m \u001b[0mmax_length\u001b[0m\u001b[0;34m)\u001b[0m\u001b[0;34m\u001b[0m\u001b[0;34m\u001b[0m\u001b[0m\n\u001b[1;32m     22\u001b[0m \u001b[0;34m\u001b[0m\u001b[0m\n\u001b[0;32m---> 23\u001b[0;31m         \u001b[0mdecoded_words\u001b[0m \u001b[0;34m=\u001b[0m \u001b[0mbeam_search\u001b[0m\u001b[0;34m(\u001b[0m\u001b[0mbeam_size\u001b[0m\u001b[0;34m,\u001b[0m \u001b[0mdecoder\u001b[0m\u001b[0;34m,\u001b[0m \u001b[0mdecoder_input\u001b[0m\u001b[0;34m,\u001b[0m \u001b[0mmax_length\u001b[0m\u001b[0;34m,\u001b[0m \u001b[0mdecoder_hidden\u001b[0m\u001b[0;34m,\u001b[0m \u001b[0mencoder_outputs\u001b[0m\u001b[0;34m,\u001b[0m\u001b[0mEOS_token\u001b[0m\u001b[0;34m,\u001b[0m\u001b[0moutput_lang\u001b[0m\u001b[0;34m,\u001b[0m\u001b[0mmax_hypotheses\u001b[0m\u001b[0;34m)\u001b[0m\u001b[0;34m\u001b[0m\u001b[0;34m\u001b[0m\u001b[0m\n\u001b[0m\u001b[1;32m     24\u001b[0m         \u001b[0;32mreturn\u001b[0m \u001b[0mdecoded_words\u001b[0m\u001b[0;34m\u001b[0m\u001b[0;34m\u001b[0m\u001b[0m\n\u001b[1;32m     25\u001b[0m \u001b[0;34m\u001b[0m\u001b[0m\n",
      "\u001b[0;32m~/Dropbox/Centrale/3A/NLP/seq2seq/beam_search.py\u001b[0m in \u001b[0;36mbeam_search\u001b[0;34m(beam_size, decoder, initial_decoder_input, max_length, initial_decoder_hidden, encoder_outputs, EOS_token, output_lang, max_hypotheses)\u001b[0m\n\u001b[1;32m     21\u001b[0m                                                                                           \u001b[0mcompleted_hypotheses\u001b[0m\u001b[0;34m,\u001b[0m\u001b[0;34m\u001b[0m\u001b[0;34m\u001b[0m\u001b[0m\n\u001b[1;32m     22\u001b[0m                                                                                           \u001b[0mEOS_token\u001b[0m\u001b[0;34m,\u001b[0m\u001b[0;34m\u001b[0m\u001b[0;34m\u001b[0m\u001b[0m\n\u001b[0;32m---> 23\u001b[0;31m                                                                                           max_length)\n\u001b[0m\u001b[1;32m     24\u001b[0m             \u001b[0;32melse\u001b[0m\u001b[0;34m:\u001b[0m\u001b[0;34m\u001b[0m\u001b[0;34m\u001b[0m\u001b[0m\n\u001b[1;32m     25\u001b[0m                 \u001b[0;32mbreak\u001b[0m\u001b[0;34m\u001b[0m\u001b[0;34m\u001b[0m\u001b[0m\n",
      "\u001b[0;32m~/Dropbox/Centrale/3A/NLP/seq2seq/beam_search.py\u001b[0m in \u001b[0;36mget_k_best_translations\u001b[0;34m(k, hypotheses, decoder, hidden_states, encoder_outputs, complete_hypotheses, EOS_token, max_length)\u001b[0m\n\u001b[1;32m     45\u001b[0m     \u001b[0;32mfor\u001b[0m \u001b[0mtranslation\u001b[0m\u001b[0;34m,\u001b[0m \u001b[0mscore\u001b[0m \u001b[0;32min\u001b[0m \u001b[0mhypotheses\u001b[0m\u001b[0;34m.\u001b[0m\u001b[0mitems\u001b[0m\u001b[0;34m(\u001b[0m\u001b[0;34m)\u001b[0m\u001b[0;34m:\u001b[0m\u001b[0;34m\u001b[0m\u001b[0;34m\u001b[0m\u001b[0m\n\u001b[1;32m     46\u001b[0m         decoder_output, decoder_hidden, decoder_attention = decoder(translation[-1].squeeze().detach(),\n\u001b[0;32m---> 47\u001b[0;31m                                                                     hidden_states[translation], encoder_outputs)\n\u001b[0m\u001b[1;32m     48\u001b[0m         \u001b[0mtopv\u001b[0m\u001b[0;34m,\u001b[0m \u001b[0mtopi\u001b[0m \u001b[0;34m=\u001b[0m \u001b[0mdecoder_output\u001b[0m\u001b[0;34m.\u001b[0m\u001b[0mdata\u001b[0m\u001b[0;34m.\u001b[0m\u001b[0mtopk\u001b[0m\u001b[0;34m(\u001b[0m\u001b[0mk\u001b[0m\u001b[0;34m)\u001b[0m\u001b[0;34m\u001b[0m\u001b[0;34m\u001b[0m\u001b[0m\n\u001b[1;32m     49\u001b[0m         \u001b[0;32mfor\u001b[0m \u001b[0mi\u001b[0m \u001b[0;32min\u001b[0m \u001b[0mrange\u001b[0m\u001b[0;34m(\u001b[0m\u001b[0mk\u001b[0m\u001b[0;34m)\u001b[0m\u001b[0;34m:\u001b[0m\u001b[0;34m\u001b[0m\u001b[0;34m\u001b[0m\u001b[0m\n",
      "\u001b[0;32m~/opt/anaconda3/envs/tensorflow_cpu/lib/python3.7/site-packages/torch/nn/modules/module.py\u001b[0m in \u001b[0;36m__call__\u001b[0;34m(self, *input, **kwargs)\u001b[0m\n\u001b[1;32m    530\u001b[0m             \u001b[0mresult\u001b[0m \u001b[0;34m=\u001b[0m \u001b[0mself\u001b[0m\u001b[0;34m.\u001b[0m\u001b[0m_slow_forward\u001b[0m\u001b[0;34m(\u001b[0m\u001b[0;34m*\u001b[0m\u001b[0minput\u001b[0m\u001b[0;34m,\u001b[0m \u001b[0;34m**\u001b[0m\u001b[0mkwargs\u001b[0m\u001b[0;34m)\u001b[0m\u001b[0;34m\u001b[0m\u001b[0;34m\u001b[0m\u001b[0m\n\u001b[1;32m    531\u001b[0m         \u001b[0;32melse\u001b[0m\u001b[0;34m:\u001b[0m\u001b[0;34m\u001b[0m\u001b[0;34m\u001b[0m\u001b[0m\n\u001b[0;32m--> 532\u001b[0;31m             \u001b[0mresult\u001b[0m \u001b[0;34m=\u001b[0m \u001b[0mself\u001b[0m\u001b[0;34m.\u001b[0m\u001b[0mforward\u001b[0m\u001b[0;34m(\u001b[0m\u001b[0;34m*\u001b[0m\u001b[0minput\u001b[0m\u001b[0;34m,\u001b[0m \u001b[0;34m**\u001b[0m\u001b[0mkwargs\u001b[0m\u001b[0;34m)\u001b[0m\u001b[0;34m\u001b[0m\u001b[0;34m\u001b[0m\u001b[0m\n\u001b[0m\u001b[1;32m    533\u001b[0m         \u001b[0;32mfor\u001b[0m \u001b[0mhook\u001b[0m \u001b[0;32min\u001b[0m \u001b[0mself\u001b[0m\u001b[0;34m.\u001b[0m\u001b[0m_forward_hooks\u001b[0m\u001b[0;34m.\u001b[0m\u001b[0mvalues\u001b[0m\u001b[0;34m(\u001b[0m\u001b[0;34m)\u001b[0m\u001b[0;34m:\u001b[0m\u001b[0;34m\u001b[0m\u001b[0;34m\u001b[0m\u001b[0m\n\u001b[1;32m    534\u001b[0m             \u001b[0mhook_result\u001b[0m \u001b[0;34m=\u001b[0m \u001b[0mhook\u001b[0m\u001b[0;34m(\u001b[0m\u001b[0mself\u001b[0m\u001b[0;34m,\u001b[0m \u001b[0minput\u001b[0m\u001b[0;34m,\u001b[0m \u001b[0mresult\u001b[0m\u001b[0;34m)\u001b[0m\u001b[0;34m\u001b[0m\u001b[0;34m\u001b[0m\u001b[0m\n",
      "\u001b[0;32m<ipython-input-72-e1edd9ef7e50>\u001b[0m in \u001b[0;36mforward\u001b[0;34m(self, input, hidden, encoder_outputs)\u001b[0m\n\u001b[1;32m     21\u001b[0m         \u001b[0mattn_weights\u001b[0m \u001b[0;34m=\u001b[0m \u001b[0mF\u001b[0m\u001b[0;34m.\u001b[0m\u001b[0msoftmax\u001b[0m\u001b[0;34m(\u001b[0m\u001b[0mself\u001b[0m\u001b[0;34m.\u001b[0m\u001b[0mattn\u001b[0m\u001b[0;34m(\u001b[0m\u001b[0mtorch\u001b[0m\u001b[0;34m.\u001b[0m\u001b[0mcat\u001b[0m\u001b[0;34m(\u001b[0m\u001b[0;34m(\u001b[0m\u001b[0membedded\u001b[0m\u001b[0;34m[\u001b[0m\u001b[0;36m0\u001b[0m\u001b[0;34m]\u001b[0m\u001b[0;34m,\u001b[0m \u001b[0mhidden\u001b[0m\u001b[0;34m[\u001b[0m\u001b[0;36m0\u001b[0m\u001b[0;34m]\u001b[0m\u001b[0;34m)\u001b[0m\u001b[0;34m,\u001b[0m \u001b[0;36m1\u001b[0m\u001b[0;34m)\u001b[0m\u001b[0;34m)\u001b[0m\u001b[0;34m,\u001b[0m \u001b[0mdim\u001b[0m\u001b[0;34m=\u001b[0m\u001b[0;36m1\u001b[0m\u001b[0;34m)\u001b[0m\u001b[0;34m\u001b[0m\u001b[0;34m\u001b[0m\u001b[0m\n\u001b[1;32m     22\u001b[0m         attn_applied = torch.bmm(attn_weights.unsqueeze(0),\n\u001b[0;32m---> 23\u001b[0;31m                                  encoder_outputs.unsqueeze(0))\n\u001b[0m\u001b[1;32m     24\u001b[0m \u001b[0;34m\u001b[0m\u001b[0m\n\u001b[1;32m     25\u001b[0m         \u001b[0moutput\u001b[0m \u001b[0;34m=\u001b[0m \u001b[0mtorch\u001b[0m\u001b[0;34m.\u001b[0m\u001b[0mcat\u001b[0m\u001b[0;34m(\u001b[0m\u001b[0;34m(\u001b[0m\u001b[0membedded\u001b[0m\u001b[0;34m[\u001b[0m\u001b[0;36m0\u001b[0m\u001b[0;34m]\u001b[0m\u001b[0;34m,\u001b[0m \u001b[0mattn_applied\u001b[0m\u001b[0;34m[\u001b[0m\u001b[0;36m0\u001b[0m\u001b[0;34m]\u001b[0m\u001b[0;34m)\u001b[0m\u001b[0;34m,\u001b[0m \u001b[0;36m1\u001b[0m\u001b[0;34m)\u001b[0m\u001b[0;34m\u001b[0m\u001b[0;34m\u001b[0m\u001b[0m\n",
      "\u001b[0;31mKeyboardInterrupt\u001b[0m: "
     ]
    }
   ],
   "source": [
    "evaluateRandomly(encoder1, attn_decoder1,beam_size =2 ,n=10,max_hypotheses=40)"
   ]
  },
  {
   "cell_type": "markdown",
   "metadata": {},
   "source": [
    "Visualizing Attention\n",
    "---------------------\n",
    "\n",
    "A useful property of the attention mechanism is its highly interpretable\n",
    "outputs. Because it is used to weight specific encoder outputs of the\n",
    "input sequence, we can imagine looking where the network is focused most\n",
    "at each time step.\n",
    "\n",
    "You could simply run ``plt.matshow(attentions)`` to see attention output\n",
    "displayed as a matrix, with the columns being input steps and rows being\n",
    "output steps:\n",
    "\n",
    "\n"
   ]
  },
  {
   "cell_type": "code",
   "execution_count": 66,
   "metadata": {},
   "outputs": [
    {
     "data": {
      "text/plain": [
       "<matplotlib.image.AxesImage at 0x12df6cad0>"
      ]
     },
     "execution_count": 66,
     "metadata": {},
     "output_type": "execute_result"
    },
    {
     "data": {
      "image/png": "[encoded data removed]",
      "text/plain": [
       "<Figure size 480x288 with 1 Axes>"
      ]
     },
     "metadata": {
      "needs_background": "light"
     },
     "output_type": "display_data"
    }
   ],
   "source": [
    "output_words, attentions = evaluate(\n",
    "    encoder1, attn_decoder1, \"je suis trop froid .\")\n",
    "plt.matshow(attentions.numpy())"
   ]
  },
  {
   "cell_type": "markdown",
   "metadata": {},
   "source": [
    "For a better viewing experience we will do the extra work of adding axes\n",
    "and labels:\n",
    "\n",
    "\n"
   ]
  },
  {
   "cell_type": "code",
   "execution_count": 67,
   "metadata": {},
   "outputs": [
    {
     "name": "stdout",
     "output_type": "stream",
     "text": [
      "input = elle a cinq ans de moins que moi .\n",
      "output = she is five years younger than me . <EOS>\n",
      "input = elle est trop petit .\n",
      "output = she is too short . <EOS>\n",
      "input = je ne crains pas de mourir .\n",
      "output = i m not scared to die . <EOS>\n",
      "input = c est un jeune directeur plein de talent .\n",
      "output = he s a talented and . . <EOS>\n",
      "input = je suis une fille\n",
      "output = i m a girl . <EOS>\n",
      "input = tu es laid\n",
      "output = you are <EOS>\n"
     ]
    },
    {
     "name": "stderr",
     "output_type": "stream",
     "text": [
      "/Users/marine/.local/lib/python3.7/site-packages/ipykernel_launcher.py:17: UserWarning: Matplotlib is currently using agg, which is a non-GUI backend, so cannot show the figure.\n"
     ]
    },
    {
     "data": {
      "image/png": "[encoded data removed]",
      "text/plain": [
       "<Figure size 432x288 with 2 Axes>"
      ]
     },
     "metadata": {
      "needs_background": "light"
     },
     "output_type": "display_data"
    },
    {
     "data": {
      "image/png": "[encoded data removed]",
      "text/plain": [
       "<Figure size 432x288 with 2 Axes>"
      ]
     },
     "metadata": {
      "needs_background": "light"
     },
     "output_type": "display_data"
    },
    {
     "data": {
      "image/png": "[encoded data removed]",
      "text/plain": [
       "<Figure size 432x288 with 2 Axes>"
      ]
     },
     "metadata": {
      "needs_background": "light"
     },
     "output_type": "display_data"
    },
    {
     "data": {
      "image/png": "[encoded data removed]",
      "text/plain": [
       "<Figure size 432x288 with 2 Axes>"
      ]
     },
     "metadata": {
      "needs_background": "light"
     },
     "output_type": "display_data"
    },
    {
     "data": {
      "image/png": "[encoded data removed]",
      "text/plain": [
       "<Figure size 432x288 with 2 Axes>"
      ]
     },
     "metadata": {
      "needs_background": "light"
     },
     "output_type": "display_data"
    },
    {
     "data": {
      "image/png": "[encoded data removed]",
      "text/plain": [
       "<Figure size 432x288 with 2 Axes>"
      ]
     },
     "metadata": {
      "needs_background": "light"
     },
     "output_type": "display_data"
    }
   ],
   "source": [
    "def showAttention(input_sentence, output_words, attentions):\n",
    "    # Set up figure with colorbar\n",
    "    fig = plt.figure()\n",
    "    ax = fig.add_subplot(111)\n",
    "    cax = ax.matshow(attentions.numpy(), cmap='bone')\n",
    "    fig.colorbar(cax)\n",
    "\n",
    "    # Set up axes\n",
    "    ax.set_xticklabels([''] + input_sentence.split(' ') +\n",
    "                       ['<EOS>'], rotation=90)\n",
    "    ax.set_yticklabels([''] + output_words)\n",
    "\n",
    "    # Show label at every tick\n",
    "    ax.xaxis.set_major_locator(ticker.MultipleLocator(1))\n",
    "    ax.yaxis.set_major_locator(ticker.MultipleLocator(1))\n",
    "\n",
    "    plt.show()\n",
    "\n",
    "\n",
    "def evaluateAndShowAttention(input_sentence):\n",
    "    output_words, attentions = evaluate(\n",
    "        encoder1, attn_decoder1, input_sentence)\n",
    "    print('input =', input_sentence)\n",
    "    print('output =', ' '.join(output_words))\n",
    "    showAttention(input_sentence, output_words, attentions)\n",
    "\n",
    "\n",
    "evaluateAndShowAttention(\"elle a cinq ans de moins que moi .\")\n",
    "\n",
    "evaluateAndShowAttention(\"elle est trop petit .\")\n",
    "\n",
    "evaluateAndShowAttention(\"je ne crains pas de mourir .\")\n",
    "\n",
    "evaluateAndShowAttention(\"c est un jeune directeur plein de talent .\")\n",
    "\n",
    "evaluateAndShowAttention(\"je suis une fille\")\n",
    "\n",
    "evaluateAndShowAttention(\"tu es laid\")\n",
    "\n",
    "\n",
    "\n"
   ]
  },
  {
   "cell_type": "markdown",
   "metadata": {},
   "source": [
    "Exercises\n",
    "=========\n",
    "\n",
    "-  Try with a different dataset\n",
    "\n",
    "   -  Another language pair\n",
    "   -  Human → Machine (e.g. IOT commands)\n",
    "   -  Chat → Response\n",
    "   -  Question → Answer\n",
    "\n",
    "-  Replace the embeddings with pre-trained word embeddings such as word2vec or\n",
    "   GloVe\n",
    "-  Try with more layers, more hidden units, and more sentences. Compare\n",
    "   the training time and results.\n",
    "-  If you use a translation file where pairs have two of the same phrase\n",
    "   (``I am test \\t I am test``), you can use this as an autoencoder. Try\n",
    "   this:\n",
    "\n",
    "   -  Train as an autoencoder\n",
    "   -  Save only the Encoder network\n",
    "   -  Train a new Decoder for translation from there\n",
    "\n",
    "\n"
   ]
  },
  {
   "cell_type": "code",
   "execution_count": null,
   "metadata": {},
   "outputs": [],
   "source": []
  }
 ],
 "metadata": {
  "kernelspec": {
   "display_name": "Python 3",
   "language": "python",
   "name": "python3"
  },
  "language_info": {
   "codemirror_mode": {
    "name": "ipython",
    "version": 3
   },
   "file_extension": ".py",
   "mimetype": "text/x-python",
   "name": "python",
   "nbconvert_exporter": "python",
   "pygments_lexer": "ipython3",
   "version": "3.7.5"
  }
 },
 "nbformat": 4,
 "nbformat_minor": 1
}
